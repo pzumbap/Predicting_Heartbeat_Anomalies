{
 "cells": [
  {
   "attachments": {},
   "cell_type": "markdown",
   "metadata": {},
   "source": [
    "# Predicting Heartbeat Anomalies: A Comparative Study of Neural Networks"
   ]
  },
  {
   "attachments": {},
   "cell_type": "markdown",
   "metadata": {},
   "source": [
    "## Evaluating Multiclass Classification Models for Heartbeat Measurements"
   ]
  },
  {
   "attachments": {},
   "cell_type": "markdown",
   "metadata": {},
   "source": [
    "In this project, we will focus on healthcare. This data set is made available by MIT. It contains data about 9,026 heartbeat measurements. Each row represents a single measurement (captured on a timeline). There are a total of 80 data points (columns). This is a multiclass classification task: predict whether the measurement represents a normal heartbeat or other anomalies. "
   ]
  },
  {
   "attachments": {},
   "cell_type": "markdown",
   "metadata": {},
   "source": [
    "## Description of Variables\n",
    "\n",
    "You will use the **hearbeat_cleaned.csv** data set for this assignment. Each row represents a single measurement. Columns labeled as T1 from T80 are the time steps on the timeline (there are 80 time steps, each time step has only one measurement). \n",
    "\n",
    "The last column is the target variable. It shows the label (category) of the measurement as follows:<br>\n",
    "0 = Normal<br>\n",
    "1 = Supraventricular premature beat<br>\n",
    "2 = Premature ventricular contraction<br>\n",
    "3 = Fusion of ventricular and normal beat<br>\n",
    "4 = Unclassifiable beat"
   ]
  },
  {
   "attachments": {},
   "cell_type": "markdown",
   "metadata": {},
   "source": [
    "## Goal\n",
    "\n",
    "Use the data set **hearbeat_cleaned.csv** to predict the column called **Target**. The input variables are columns labeled as **T1 to T80**. "
   ]
  },
  {
   "attachments": {},
   "cell_type": "markdown",
   "metadata": {},
   "source": [
    "# 1) Read and Prepare the Data (1 points)"
   ]
  },
  {
   "cell_type": "code",
   "execution_count": 1,
   "metadata": {},
   "outputs": [
    {
     "name": "stderr",
     "output_type": "stream",
     "text": [
      "2023-02-15 11:37:29.911688: I tensorflow/core/platform/cpu_feature_guard.cc:193] This TensorFlow binary is optimized with oneAPI Deep Neural Network Library (oneDNN) to use the following CPU instructions in performance-critical operations:  SSE4.1 SSE4.2 AVX AVX2 FMA\n",
      "To enable them in other operations, rebuild TensorFlow with the appropriate compiler flags.\n"
     ]
    }
   ],
   "source": [
    "import tensorflow as tf\n",
    "from tensorflow import keras\n",
    "from sklearn.metrics import mean_squared_error\n",
    "\n",
    "\n",
    "# Common imports\n",
    "import numpy as np\n",
    "import os\n",
    "import pandas as pd\n",
    "\n",
    "# to make this notebook's output stable across runs\n",
    "np.random.seed(42)\n",
    "\n",
    "# To plot pretty figures\n",
    "%matplotlib inline\n",
    "import matplotlib as mpl\n",
    "import matplotlib.pyplot as plt\n",
    "mpl.rc('axes', labelsize=14)\n",
    "mpl.rc('xtick', labelsize=12)\n",
    "mpl.rc('ytick', labelsize=12)"
   ]
  },
  {
   "cell_type": "code",
   "execution_count": 2,
   "metadata": {},
   "outputs": [
    {
     "data": {
      "text/html": [
       "<div>\n",
       "<style scoped>\n",
       "    .dataframe tbody tr th:only-of-type {\n",
       "        vertical-align: middle;\n",
       "    }\n",
       "\n",
       "    .dataframe tbody tr th {\n",
       "        vertical-align: top;\n",
       "    }\n",
       "\n",
       "    .dataframe thead th {\n",
       "        text-align: right;\n",
       "    }\n",
       "</style>\n",
       "<table border=\"1\" class=\"dataframe\">\n",
       "  <thead>\n",
       "    <tr style=\"text-align: right;\">\n",
       "      <th></th>\n",
       "      <th>T1</th>\n",
       "      <th>T2</th>\n",
       "      <th>T3</th>\n",
       "      <th>T4</th>\n",
       "      <th>T5</th>\n",
       "      <th>T6</th>\n",
       "      <th>T7</th>\n",
       "      <th>T8</th>\n",
       "      <th>T9</th>\n",
       "      <th>T10</th>\n",
       "      <th>...</th>\n",
       "      <th>T72</th>\n",
       "      <th>T73</th>\n",
       "      <th>T74</th>\n",
       "      <th>T75</th>\n",
       "      <th>T76</th>\n",
       "      <th>T77</th>\n",
       "      <th>T78</th>\n",
       "      <th>T79</th>\n",
       "      <th>T80</th>\n",
       "      <th>Target</th>\n",
       "    </tr>\n",
       "  </thead>\n",
       "  <tbody>\n",
       "    <tr>\n",
       "      <th>0</th>\n",
       "      <td>0.987</td>\n",
       "      <td>0.892</td>\n",
       "      <td>0.461</td>\n",
       "      <td>0.1130</td>\n",
       "      <td>0.1490</td>\n",
       "      <td>0.1900</td>\n",
       "      <td>0.1650</td>\n",
       "      <td>0.1620</td>\n",
       "      <td>0.1470</td>\n",
       "      <td>0.1380</td>\n",
       "      <td>...</td>\n",
       "      <td>0.1970</td>\n",
       "      <td>0.1970</td>\n",
       "      <td>0.1960</td>\n",
       "      <td>0.2030</td>\n",
       "      <td>0.201</td>\n",
       "      <td>0.1990</td>\n",
       "      <td>0.2010</td>\n",
       "      <td>0.205</td>\n",
       "      <td>0.2080</td>\n",
       "      <td>0</td>\n",
       "    </tr>\n",
       "    <tr>\n",
       "      <th>1</th>\n",
       "      <td>1.000</td>\n",
       "      <td>0.918</td>\n",
       "      <td>0.621</td>\n",
       "      <td>0.1330</td>\n",
       "      <td>0.1050</td>\n",
       "      <td>0.1250</td>\n",
       "      <td>0.1170</td>\n",
       "      <td>0.0898</td>\n",
       "      <td>0.0703</td>\n",
       "      <td>0.0781</td>\n",
       "      <td>...</td>\n",
       "      <td>0.1950</td>\n",
       "      <td>0.1910</td>\n",
       "      <td>0.1520</td>\n",
       "      <td>0.1720</td>\n",
       "      <td>0.207</td>\n",
       "      <td>0.2110</td>\n",
       "      <td>0.2070</td>\n",
       "      <td>0.207</td>\n",
       "      <td>0.1720</td>\n",
       "      <td>0</td>\n",
       "    </tr>\n",
       "    <tr>\n",
       "      <th>2</th>\n",
       "      <td>1.000</td>\n",
       "      <td>0.751</td>\n",
       "      <td>0.143</td>\n",
       "      <td>0.1040</td>\n",
       "      <td>0.0961</td>\n",
       "      <td>0.0519</td>\n",
       "      <td>0.0442</td>\n",
       "      <td>0.0416</td>\n",
       "      <td>0.0364</td>\n",
       "      <td>0.0857</td>\n",
       "      <td>...</td>\n",
       "      <td>0.2260</td>\n",
       "      <td>0.2420</td>\n",
       "      <td>0.2440</td>\n",
       "      <td>0.2860</td>\n",
       "      <td>0.468</td>\n",
       "      <td>0.8160</td>\n",
       "      <td>0.9770</td>\n",
       "      <td>0.452</td>\n",
       "      <td>0.0519</td>\n",
       "      <td>0</td>\n",
       "    </tr>\n",
       "    <tr>\n",
       "      <th>3</th>\n",
       "      <td>1.000</td>\n",
       "      <td>0.740</td>\n",
       "      <td>0.235</td>\n",
       "      <td>0.0464</td>\n",
       "      <td>0.0722</td>\n",
       "      <td>0.0567</td>\n",
       "      <td>0.0103</td>\n",
       "      <td>0.0155</td>\n",
       "      <td>0.0284</td>\n",
       "      <td>0.0155</td>\n",
       "      <td>...</td>\n",
       "      <td>0.0851</td>\n",
       "      <td>0.0747</td>\n",
       "      <td>0.0515</td>\n",
       "      <td>0.0593</td>\n",
       "      <td>0.067</td>\n",
       "      <td>0.0361</td>\n",
       "      <td>0.1210</td>\n",
       "      <td>0.451</td>\n",
       "      <td>0.8690</td>\n",
       "      <td>0</td>\n",
       "    </tr>\n",
       "    <tr>\n",
       "      <th>4</th>\n",
       "      <td>1.000</td>\n",
       "      <td>0.833</td>\n",
       "      <td>0.309</td>\n",
       "      <td>0.0191</td>\n",
       "      <td>0.1010</td>\n",
       "      <td>0.1200</td>\n",
       "      <td>0.1040</td>\n",
       "      <td>0.0874</td>\n",
       "      <td>0.0765</td>\n",
       "      <td>0.0765</td>\n",
       "      <td>...</td>\n",
       "      <td>0.2050</td>\n",
       "      <td>0.4210</td>\n",
       "      <td>0.8030</td>\n",
       "      <td>0.9510</td>\n",
       "      <td>0.467</td>\n",
       "      <td>0.0000</td>\n",
       "      <td>0.0519</td>\n",
       "      <td>0.082</td>\n",
       "      <td>0.0628</td>\n",
       "      <td>0</td>\n",
       "    </tr>\n",
       "    <tr>\n",
       "      <th>...</th>\n",
       "      <td>...</td>\n",
       "      <td>...</td>\n",
       "      <td>...</td>\n",
       "      <td>...</td>\n",
       "      <td>...</td>\n",
       "      <td>...</td>\n",
       "      <td>...</td>\n",
       "      <td>...</td>\n",
       "      <td>...</td>\n",
       "      <td>...</td>\n",
       "      <td>...</td>\n",
       "      <td>...</td>\n",
       "      <td>...</td>\n",
       "      <td>...</td>\n",
       "      <td>...</td>\n",
       "      <td>...</td>\n",
       "      <td>...</td>\n",
       "      <td>...</td>\n",
       "      <td>...</td>\n",
       "      <td>...</td>\n",
       "      <td>...</td>\n",
       "    </tr>\n",
       "    <tr>\n",
       "      <th>7955</th>\n",
       "      <td>0.929</td>\n",
       "      <td>0.871</td>\n",
       "      <td>0.805</td>\n",
       "      <td>0.7430</td>\n",
       "      <td>0.6510</td>\n",
       "      <td>0.5360</td>\n",
       "      <td>0.3940</td>\n",
       "      <td>0.2510</td>\n",
       "      <td>0.1400</td>\n",
       "      <td>0.1020</td>\n",
       "      <td>...</td>\n",
       "      <td>0.4670</td>\n",
       "      <td>0.4670</td>\n",
       "      <td>0.4690</td>\n",
       "      <td>0.4700</td>\n",
       "      <td>0.469</td>\n",
       "      <td>0.4680</td>\n",
       "      <td>0.4680</td>\n",
       "      <td>0.463</td>\n",
       "      <td>0.4710</td>\n",
       "      <td>4</td>\n",
       "    </tr>\n",
       "    <tr>\n",
       "      <th>7956</th>\n",
       "      <td>0.803</td>\n",
       "      <td>0.692</td>\n",
       "      <td>0.587</td>\n",
       "      <td>0.4470</td>\n",
       "      <td>0.3180</td>\n",
       "      <td>0.1900</td>\n",
       "      <td>0.1180</td>\n",
       "      <td>0.0777</td>\n",
       "      <td>0.1120</td>\n",
       "      <td>0.1520</td>\n",
       "      <td>...</td>\n",
       "      <td>0.5620</td>\n",
       "      <td>0.5670</td>\n",
       "      <td>0.5610</td>\n",
       "      <td>0.5700</td>\n",
       "      <td>0.561</td>\n",
       "      <td>0.5650</td>\n",
       "      <td>0.5620</td>\n",
       "      <td>0.570</td>\n",
       "      <td>0.5610</td>\n",
       "      <td>4</td>\n",
       "    </tr>\n",
       "    <tr>\n",
       "      <th>7957</th>\n",
       "      <td>1.000</td>\n",
       "      <td>0.967</td>\n",
       "      <td>0.620</td>\n",
       "      <td>0.3470</td>\n",
       "      <td>0.1390</td>\n",
       "      <td>0.0890</td>\n",
       "      <td>0.1040</td>\n",
       "      <td>0.1010</td>\n",
       "      <td>0.1070</td>\n",
       "      <td>0.1010</td>\n",
       "      <td>...</td>\n",
       "      <td>0.1390</td>\n",
       "      <td>0.1510</td>\n",
       "      <td>0.1360</td>\n",
       "      <td>0.1510</td>\n",
       "      <td>0.139</td>\n",
       "      <td>0.1510</td>\n",
       "      <td>0.1420</td>\n",
       "      <td>0.169</td>\n",
       "      <td>0.1630</td>\n",
       "      <td>4</td>\n",
       "    </tr>\n",
       "    <tr>\n",
       "      <th>7958</th>\n",
       "      <td>0.984</td>\n",
       "      <td>0.567</td>\n",
       "      <td>0.607</td>\n",
       "      <td>0.5830</td>\n",
       "      <td>0.6070</td>\n",
       "      <td>0.5750</td>\n",
       "      <td>0.5750</td>\n",
       "      <td>0.4880</td>\n",
       "      <td>0.3930</td>\n",
       "      <td>0.2380</td>\n",
       "      <td>...</td>\n",
       "      <td>0.2220</td>\n",
       "      <td>0.2260</td>\n",
       "      <td>0.2260</td>\n",
       "      <td>0.2500</td>\n",
       "      <td>0.230</td>\n",
       "      <td>0.2420</td>\n",
       "      <td>0.2180</td>\n",
       "      <td>0.238</td>\n",
       "      <td>0.2180</td>\n",
       "      <td>4</td>\n",
       "    </tr>\n",
       "    <tr>\n",
       "      <th>7959</th>\n",
       "      <td>0.974</td>\n",
       "      <td>0.913</td>\n",
       "      <td>0.866</td>\n",
       "      <td>0.8230</td>\n",
       "      <td>0.7460</td>\n",
       "      <td>0.6420</td>\n",
       "      <td>0.5480</td>\n",
       "      <td>0.4260</td>\n",
       "      <td>0.3250</td>\n",
       "      <td>0.2800</td>\n",
       "      <td>...</td>\n",
       "      <td>0.3700</td>\n",
       "      <td>0.3860</td>\n",
       "      <td>0.3760</td>\n",
       "      <td>0.3800</td>\n",
       "      <td>0.382</td>\n",
       "      <td>0.3840</td>\n",
       "      <td>0.3750</td>\n",
       "      <td>0.382</td>\n",
       "      <td>0.3800</td>\n",
       "      <td>4</td>\n",
       "    </tr>\n",
       "  </tbody>\n",
       "</table>\n",
       "<p>7960 rows × 81 columns</p>\n",
       "</div>"
      ],
      "text/plain": [
       "         T1     T2     T3      T4      T5      T6      T7      T8      T9  \\\n",
       "0     0.987  0.892  0.461  0.1130  0.1490  0.1900  0.1650  0.1620  0.1470   \n",
       "1     1.000  0.918  0.621  0.1330  0.1050  0.1250  0.1170  0.0898  0.0703   \n",
       "2     1.000  0.751  0.143  0.1040  0.0961  0.0519  0.0442  0.0416  0.0364   \n",
       "3     1.000  0.740  0.235  0.0464  0.0722  0.0567  0.0103  0.0155  0.0284   \n",
       "4     1.000  0.833  0.309  0.0191  0.1010  0.1200  0.1040  0.0874  0.0765   \n",
       "...     ...    ...    ...     ...     ...     ...     ...     ...     ...   \n",
       "7955  0.929  0.871  0.805  0.7430  0.6510  0.5360  0.3940  0.2510  0.1400   \n",
       "7956  0.803  0.692  0.587  0.4470  0.3180  0.1900  0.1180  0.0777  0.1120   \n",
       "7957  1.000  0.967  0.620  0.3470  0.1390  0.0890  0.1040  0.1010  0.1070   \n",
       "7958  0.984  0.567  0.607  0.5830  0.6070  0.5750  0.5750  0.4880  0.3930   \n",
       "7959  0.974  0.913  0.866  0.8230  0.7460  0.6420  0.5480  0.4260  0.3250   \n",
       "\n",
       "         T10  ...     T72     T73     T74     T75    T76     T77     T78  \\\n",
       "0     0.1380  ...  0.1970  0.1970  0.1960  0.2030  0.201  0.1990  0.2010   \n",
       "1     0.0781  ...  0.1950  0.1910  0.1520  0.1720  0.207  0.2110  0.2070   \n",
       "2     0.0857  ...  0.2260  0.2420  0.2440  0.2860  0.468  0.8160  0.9770   \n",
       "3     0.0155  ...  0.0851  0.0747  0.0515  0.0593  0.067  0.0361  0.1210   \n",
       "4     0.0765  ...  0.2050  0.4210  0.8030  0.9510  0.467  0.0000  0.0519   \n",
       "...      ...  ...     ...     ...     ...     ...    ...     ...     ...   \n",
       "7955  0.1020  ...  0.4670  0.4670  0.4690  0.4700  0.469  0.4680  0.4680   \n",
       "7956  0.1520  ...  0.5620  0.5670  0.5610  0.5700  0.561  0.5650  0.5620   \n",
       "7957  0.1010  ...  0.1390  0.1510  0.1360  0.1510  0.139  0.1510  0.1420   \n",
       "7958  0.2380  ...  0.2220  0.2260  0.2260  0.2500  0.230  0.2420  0.2180   \n",
       "7959  0.2800  ...  0.3700  0.3860  0.3760  0.3800  0.382  0.3840  0.3750   \n",
       "\n",
       "        T79     T80  Target  \n",
       "0     0.205  0.2080       0  \n",
       "1     0.207  0.1720       0  \n",
       "2     0.452  0.0519       0  \n",
       "3     0.451  0.8690       0  \n",
       "4     0.082  0.0628       0  \n",
       "...     ...     ...     ...  \n",
       "7955  0.463  0.4710       4  \n",
       "7956  0.570  0.5610       4  \n",
       "7957  0.169  0.1630       4  \n",
       "7958  0.238  0.2180       4  \n",
       "7959  0.382  0.3800       4  \n",
       "\n",
       "[7960 rows x 81 columns]"
      ]
     },
     "execution_count": 2,
     "metadata": {},
     "output_type": "execute_result"
    }
   ],
   "source": [
    "heartbeat_cleaned = pd.read_csv('heartbeat_cleaned.csv')\n",
    "\n",
    "heartbeat_cleaned"
   ]
  },
  {
   "attachments": {},
   "cell_type": "markdown",
   "metadata": {},
   "source": [
    "### Inspecting the target variable:"
   ]
  },
  {
   "cell_type": "code",
   "execution_count": 4,
   "metadata": {},
   "outputs": [
    {
     "data": {
      "text/plain": [
       "0    4633\n",
       "4    1584\n",
       "2    1237\n",
       "1     445\n",
       "3      61\n",
       "Name: Target, dtype: int64"
      ]
     },
     "execution_count": 4,
     "metadata": {},
     "output_type": "execute_result"
    }
   ],
   "source": [
    "heartbeat_cleaned['Target'].value_counts()"
   ]
  },
  {
   "cell_type": "code",
   "execution_count": 5,
   "metadata": {},
   "outputs": [
    {
     "data": {
      "text/plain": [
       "<AxesSubplot: >"
      ]
     },
     "execution_count": 5,
     "metadata": {},
     "output_type": "execute_result"
    },
    {
     "data": {
      "image/png": "[encoded data removed]",
      "text/plain": [
       "<Figure size 640x480 with 1 Axes>"
      ]
     },
     "metadata": {},
     "output_type": "display_data"
    }
   ],
   "source": [
    "heartbeat_cleaned['Target'].hist(bins=75)"
   ]
  },
  {
   "attachments": {},
   "cell_type": "markdown",
   "metadata": {},
   "source": [
    "The target variable has more Normal (o) observations than any other type of heartbeat. The second is Unclassifiable beat and the thirt one is Premature ventricular contraction"
   ]
  },
  {
   "attachments": {},
   "cell_type": "markdown",
   "metadata": {},
   "source": [
    "### Separating the target variable"
   ]
  },
  {
   "cell_type": "code",
   "execution_count": 6,
   "metadata": {},
   "outputs": [],
   "source": [
    "y = heartbeat_cleaned['Target']\n",
    "x = heartbeat_cleaned.drop('Target', axis=1)"
   ]
  },
  {
   "cell_type": "code",
   "execution_count": 7,
   "metadata": {},
   "outputs": [
    {
     "data": {
      "text/plain": [
       "((7960,), (7960, 80))"
      ]
     },
     "execution_count": 7,
     "metadata": {},
     "output_type": "execute_result"
    }
   ],
   "source": [
    "y.shape, x.shape"
   ]
  },
  {
   "attachments": {},
   "cell_type": "markdown",
   "metadata": {},
   "source": [
    "### Split the data"
   ]
  },
  {
   "cell_type": "code",
   "execution_count": 8,
   "metadata": {},
   "outputs": [],
   "source": [
    "from sklearn.model_selection import train_test_split\n",
    "\n",
    "train_x, test_x, train_y, test_y = train_test_split(x, y, test_size=0.3)"
   ]
  },
  {
   "cell_type": "code",
   "execution_count": 9,
   "metadata": {},
   "outputs": [
    {
     "data": {
      "text/plain": [
       "((5572, 80), (5572,), (2388, 80), (2388,))"
      ]
     },
     "execution_count": 9,
     "metadata": {},
     "output_type": "execute_result"
    }
   ],
   "source": [
    "train_x.shape, train_y.shape, test_x.shape, test_y.shape"
   ]
  },
  {
   "attachments": {},
   "cell_type": "markdown",
   "metadata": {},
   "source": [
    "## 1.2 Data Transformation"
   ]
  },
  {
   "cell_type": "code",
   "execution_count": 10,
   "metadata": {},
   "outputs": [],
   "source": [
    "#Target variables need to be an array with integer type\n",
    "train_y = np.array(train_y)\n",
    "test_y = np.array(test_y)\n",
    "\n",
    "train_y = train_y.astype(np.int32)\n",
    "test_y = test_y.astype(np.int32)"
   ]
  },
  {
   "cell_type": "code",
   "execution_count": 11,
   "metadata": {},
   "outputs": [
    {
     "data": {
      "text/plain": [
       "((5572,), (2388,))"
      ]
     },
     "execution_count": 11,
     "metadata": {},
     "output_type": "execute_result"
    }
   ],
   "source": [
    "train_y.shape, test_y.shape"
   ]
  },
  {
   "cell_type": "code",
   "execution_count": 12,
   "metadata": {},
   "outputs": [
    {
     "data": {
      "text/plain": [
       "array([1, 0, 2, 0, 2, 2, 0, 0, 4, 4], dtype=int32)"
      ]
     },
     "execution_count": 12,
     "metadata": {},
     "output_type": "execute_result"
    }
   ],
   "source": [
    "#Check the first 10 values of the train_y data set\n",
    "train_y[0:10]"
   ]
  },
  {
   "cell_type": "code",
   "execution_count": 13,
   "metadata": {},
   "outputs": [],
   "source": [
    "#Convert input variables to a 2-D array with float data type\n",
    "train_x= np.array(train_x)\n",
    "test_x= np.array(test_x)\n",
    "\n",
    "train_x = train_x.astype(np.float32)\n",
    "test_x = test_x.astype(np.float32)"
   ]
  },
  {
   "cell_type": "code",
   "execution_count": 14,
   "metadata": {},
   "outputs": [],
   "source": [
    "#Keras expects a different input format:\n",
    "#Data needs to have 3 dimensions\n",
    "\n",
    "train_x = np.reshape(train_x, (train_x.shape[0], train_x.shape[1], 1))\n",
    "test_x = np.reshape(test_x, (test_x.shape[0], test_x.shape[1], 1))"
   ]
  },
  {
   "cell_type": "code",
   "execution_count": 15,
   "metadata": {},
   "outputs": [
    {
     "data": {
      "text/plain": [
       "((5572, 80, 1), (2388, 80, 1))"
      ]
     },
     "execution_count": 15,
     "metadata": {},
     "output_type": "execute_result"
    }
   ],
   "source": [
    "train_x.shape, test_x.shape"
   ]
  },
  {
   "attachments": {},
   "cell_type": "markdown",
   "metadata": {},
   "source": [
    "# 2) Find the baseline (0.5 point)"
   ]
  },
  {
   "cell_type": "code",
   "execution_count": 16,
   "metadata": {},
   "outputs": [
    {
     "data": {
      "text/plain": [
       "0    0.582035\n",
       "4    0.198995\n",
       "2    0.155402\n",
       "1    0.055905\n",
       "3    0.007663\n",
       "Name: Target, dtype: float64"
      ]
     },
     "execution_count": 16,
     "metadata": {},
     "output_type": "execute_result"
    }
   ],
   "source": [
    "heartbeat_cleaned['Target'].value_counts()/len(heartbeat_cleaned)"
   ]
  },
  {
   "cell_type": "code",
   "execution_count": 17,
   "metadata": {},
   "outputs": [
    {
     "data": {
      "text/plain": [
       "DummyClassifier(strategy='most_frequent')"
      ]
     },
     "execution_count": 17,
     "metadata": {},
     "output_type": "execute_result"
    }
   ],
   "source": [
    "from sklearn.dummy import DummyClassifier\n",
    "\n",
    "dummy_clf = DummyClassifier(strategy=\"most_frequent\")\n",
    "\n",
    "dummy_clf.fit(train_x, train_y)"
   ]
  },
  {
   "cell_type": "code",
   "execution_count": 18,
   "metadata": {},
   "outputs": [],
   "source": [
    "from sklearn.metrics import accuracy_score"
   ]
  },
  {
   "cell_type": "code",
   "execution_count": 19,
   "metadata": {},
   "outputs": [
    {
     "name": "stdout",
     "output_type": "stream",
     "text": [
      "Baseline Train Accuracy: 0.5773510409188801\n"
     ]
    }
   ],
   "source": [
    "#Baseline Train Accuracy\n",
    "dummy_train_pred = dummy_clf.predict(train_x)\n",
    "\n",
    "baseline_train_acc = accuracy_score(train_y, dummy_train_pred)\n",
    "\n",
    "print('Baseline Train Accuracy: {}' .format(baseline_train_acc))"
   ]
  },
  {
   "cell_type": "code",
   "execution_count": 20,
   "metadata": {},
   "outputs": [
    {
     "name": "stdout",
     "output_type": "stream",
     "text": [
      "Baseline Test Accuracy: 0.592964824120603\n"
     ]
    }
   ],
   "source": [
    "#Baseline Test Accuracy\n",
    "dummy_test_pred = dummy_clf.predict(test_x)\n",
    "\n",
    "baseline_test_acc = accuracy_score(test_y, dummy_test_pred)\n",
    "\n",
    "print('Baseline Test Accuracy: {}' .format(baseline_test_acc))"
   ]
  },
  {
   "attachments": {},
   "cell_type": "markdown",
   "metadata": {},
   "source": [
    "# 3) Model Building"
   ]
  },
  {
   "attachments": {},
   "cell_type": "markdown",
   "metadata": {},
   "source": [
    "# 3.1 Build a cross-sectional (i.e., a regular) Neural Network model using Keras (with only one hidden layer) (2 points)"
   ]
  },
  {
   "cell_type": "code",
   "execution_count": 21,
   "metadata": {},
   "outputs": [
    {
     "name": "stderr",
     "output_type": "stream",
     "text": [
      "2023-02-15 11:40:37.719217: I tensorflow/core/platform/cpu_feature_guard.cc:193] This TensorFlow binary is optimized with oneAPI Deep Neural Network Library (oneDNN) to use the following CPU instructions in performance-critical operations:  SSE4.1 SSE4.2 AVX AVX2 FMA\n",
      "To enable them in other operations, rebuild TensorFlow with the appropriate compiler flags.\n"
     ]
    }
   ],
   "source": [
    "model_1 = keras.models.Sequential([\n",
    "    \n",
    "    keras.layers.Flatten(input_shape=[80, 1]),\n",
    "    keras.layers.Dense(10, activation='relu'),\n",
    "    keras.layers.Dense(5, activation='softmax')\n",
    "    \n",
    "])"
   ]
  },
  {
   "cell_type": "code",
   "execution_count": 22,
   "metadata": {},
   "outputs": [
    {
     "name": "stdout",
     "output_type": "stream",
     "text": [
      "Epoch 1/40\n",
      "175/175 [==============================] - 2s 4ms/step - loss: 0.7216 - accuracy: 0.7561 - val_loss: 0.6090 - val_accuracy: 0.7952\n",
      "Epoch 2/40\n",
      "175/175 [==============================] - 0s 2ms/step - loss: 0.5098 - accuracy: 0.8274 - val_loss: 0.6128 - val_accuracy: 0.7642\n",
      "Epoch 3/40\n",
      "175/175 [==============================] - 1s 3ms/step - loss: 0.4517 - accuracy: 0.8541 - val_loss: 0.8275 - val_accuracy: 0.6646\n",
      "Epoch 4/40\n",
      "175/175 [==============================] - 0s 2ms/step - loss: 0.4199 - accuracy: 0.8667 - val_loss: 0.5653 - val_accuracy: 0.7965\n",
      "Epoch 5/40\n",
      "175/175 [==============================] - 0s 2ms/step - loss: 0.3947 - accuracy: 0.8787 - val_loss: 0.3596 - val_accuracy: 0.8974\n",
      "Epoch 6/40\n",
      "175/175 [==============================] - 0s 2ms/step - loss: 0.3799 - accuracy: 0.8885 - val_loss: 0.5811 - val_accuracy: 0.8271\n",
      "Epoch 7/40\n",
      "175/175 [==============================] - 0s 2ms/step - loss: 0.3723 - accuracy: 0.8857 - val_loss: 0.6151 - val_accuracy: 0.8011\n",
      "Epoch 8/40\n",
      "175/175 [==============================] - 0s 2ms/step - loss: 0.3629 - accuracy: 0.8925 - val_loss: 0.8909 - val_accuracy: 0.6549\n",
      "Epoch 9/40\n",
      "175/175 [==============================] - 0s 3ms/step - loss: 0.3488 - accuracy: 0.8932 - val_loss: 0.4191 - val_accuracy: 0.8727\n",
      "Epoch 10/40\n",
      "175/175 [==============================] - 0s 2ms/step - loss: 0.3440 - accuracy: 0.9029 - val_loss: 0.4765 - val_accuracy: 0.8338\n",
      "Epoch 11/40\n",
      "175/175 [==============================] - 0s 2ms/step - loss: 0.3369 - accuracy: 0.8999 - val_loss: 0.3456 - val_accuracy: 0.8991\n",
      "Epoch 12/40\n",
      "175/175 [==============================] - 0s 3ms/step - loss: 0.3312 - accuracy: 0.9029 - val_loss: 1.1259 - val_accuracy: 0.7324\n",
      "Epoch 13/40\n",
      "175/175 [==============================] - 0s 2ms/step - loss: 0.3305 - accuracy: 0.9065 - val_loss: 0.3946 - val_accuracy: 0.8719\n",
      "Epoch 14/40\n",
      "175/175 [==============================] - 0s 3ms/step - loss: 0.3106 - accuracy: 0.9076 - val_loss: 0.3842 - val_accuracy: 0.8882\n",
      "Epoch 15/40\n",
      "175/175 [==============================] - 0s 3ms/step - loss: 0.3154 - accuracy: 0.9049 - val_loss: 0.3323 - val_accuracy: 0.9087\n",
      "Epoch 16/40\n",
      "175/175 [==============================] - 0s 2ms/step - loss: 0.3135 - accuracy: 0.9061 - val_loss: 0.3127 - val_accuracy: 0.9183\n",
      "Epoch 17/40\n",
      "175/175 [==============================] - 0s 2ms/step - loss: 0.3023 - accuracy: 0.9133 - val_loss: 0.3431 - val_accuracy: 0.9049\n",
      "Epoch 18/40\n",
      "175/175 [==============================] - 0s 2ms/step - loss: 0.3045 - accuracy: 0.9104 - val_loss: 0.3561 - val_accuracy: 0.9054\n",
      "Epoch 19/40\n",
      "175/175 [==============================] - 0s 2ms/step - loss: 0.3010 - accuracy: 0.9081 - val_loss: 0.6736 - val_accuracy: 0.7517\n",
      "Epoch 20/40\n",
      "175/175 [==============================] - 0s 2ms/step - loss: 0.2963 - accuracy: 0.9117 - val_loss: 1.5000 - val_accuracy: 0.6407\n",
      "Epoch 21/40\n",
      "175/175 [==============================] - 0s 2ms/step - loss: 0.3411 - accuracy: 0.8984 - val_loss: 0.3571 - val_accuracy: 0.8970\n",
      "Epoch 22/40\n",
      "175/175 [==============================] - 0s 2ms/step - loss: 0.3095 - accuracy: 0.9074 - val_loss: 0.5232 - val_accuracy: 0.8149\n",
      "Epoch 23/40\n",
      "175/175 [==============================] - 0s 2ms/step - loss: 0.3013 - accuracy: 0.9095 - val_loss: 0.3229 - val_accuracy: 0.9033\n",
      "Epoch 24/40\n",
      "175/175 [==============================] - 0s 3ms/step - loss: 0.2885 - accuracy: 0.9155 - val_loss: 0.3157 - val_accuracy: 0.9116\n",
      "Epoch 25/40\n",
      "175/175 [==============================] - 0s 3ms/step - loss: 0.2873 - accuracy: 0.9121 - val_loss: 0.3190 - val_accuracy: 0.9028\n",
      "Epoch 26/40\n",
      "175/175 [==============================] - 0s 2ms/step - loss: 0.2827 - accuracy: 0.9131 - val_loss: 0.3193 - val_accuracy: 0.9133\n",
      "Epoch 27/40\n",
      "175/175 [==============================] - 0s 3ms/step - loss: 0.2814 - accuracy: 0.9196 - val_loss: 0.3311 - val_accuracy: 0.9125\n",
      "Epoch 28/40\n",
      "175/175 [==============================] - 0s 2ms/step - loss: 0.2839 - accuracy: 0.9131 - val_loss: 0.3126 - val_accuracy: 0.9125\n",
      "Epoch 29/40\n",
      "175/175 [==============================] - 1s 3ms/step - loss: 0.2850 - accuracy: 0.9151 - val_loss: 0.7634 - val_accuracy: 0.7178\n",
      "Epoch 30/40\n",
      "175/175 [==============================] - 1s 3ms/step - loss: 0.2848 - accuracy: 0.9140 - val_loss: 0.3460 - val_accuracy: 0.9028\n",
      "Epoch 31/40\n",
      "175/175 [==============================] - 0s 3ms/step - loss: 0.2775 - accuracy: 0.9171 - val_loss: 3.5088 - val_accuracy: 0.6152\n",
      "Epoch 32/40\n",
      "175/175 [==============================] - 1s 3ms/step - loss: 0.3324 - accuracy: 0.9022 - val_loss: 0.3454 - val_accuracy: 0.8966\n",
      "Epoch 33/40\n",
      "175/175 [==============================] - 1s 3ms/step - loss: 0.2813 - accuracy: 0.9191 - val_loss: 0.3754 - val_accuracy: 0.8928\n",
      "Epoch 34/40\n",
      "175/175 [==============================] - 0s 2ms/step - loss: 0.2752 - accuracy: 0.9173 - val_loss: 0.3070 - val_accuracy: 0.9158\n",
      "Epoch 35/40\n",
      "175/175 [==============================] - 1s 4ms/step - loss: 0.2696 - accuracy: 0.9225 - val_loss: 0.3054 - val_accuracy: 0.9142\n",
      "Epoch 36/40\n",
      "175/175 [==============================] - 1s 3ms/step - loss: 0.2695 - accuracy: 0.9196 - val_loss: 0.4953 - val_accuracy: 0.8526\n",
      "Epoch 37/40\n",
      "175/175 [==============================] - 0s 3ms/step - loss: 0.2713 - accuracy: 0.9225 - val_loss: 0.3644 - val_accuracy: 0.8903\n",
      "Epoch 38/40\n",
      "175/175 [==============================] - 0s 2ms/step - loss: 0.2723 - accuracy: 0.9196 - val_loss: 0.4189 - val_accuracy: 0.8769\n",
      "Epoch 39/40\n",
      "175/175 [==============================] - 0s 3ms/step - loss: 0.2652 - accuracy: 0.9239 - val_loss: 0.3003 - val_accuracy: 0.9213\n",
      "Epoch 40/40\n",
      "175/175 [==============================] - 0s 3ms/step - loss: 0.2706 - accuracy: 0.9203 - val_loss: 0.5685 - val_accuracy: 0.8262\n"
     ]
    }
   ],
   "source": [
    "np.random.seed(42)\n",
    "tf.random.set_seed(42)\n",
    "\n",
    "optimizer = tf.keras.optimizers.Nadam(learning_rate=0.02)\n",
    "\n",
    "# If multiclass, use \"sparse_categorical_crossentropy\" as the loss function\n",
    "model_1.compile(loss=\"sparse_categorical_crossentropy\", optimizer=optimizer, metrics=['accuracy'])\n",
    "\n",
    "history = model_1.fit(train_x, train_y, epochs=40,\n",
    "                    validation_data=(test_x, test_y))"
   ]
  },
  {
   "cell_type": "code",
   "execution_count": 23,
   "metadata": {},
   "outputs": [
    {
     "data": {
      "text/plain": [
       "[0.5685343742370605, 0.8262144327163696]"
      ]
     },
     "execution_count": 23,
     "metadata": {},
     "output_type": "execute_result"
    }
   ],
   "source": [
    "# evaluate the model\n",
    "\n",
    "scores_model_1 = model_1.evaluate(test_x, test_y, verbose=0)\n",
    "\n",
    "scores_model_1\n",
    "\n",
    "# In results, first is loss, second is accuracy"
   ]
  },
  {
   "cell_type": "code",
   "execution_count": 24,
   "metadata": {},
   "outputs": [
    {
     "name": "stdout",
     "output_type": "stream",
     "text": [
      "loss: 0.57\n",
      "accuracy: 82.62%\n"
     ]
    }
   ],
   "source": [
    "# extract the accuracy from model.evaluate\n",
    "\n",
    "print(\"%s: %.2f\" % (model_1.metrics_names[0], scores_model_1[0]))\n",
    "print(\"%s: %.2f%%\" % (model_1.metrics_names[1], scores_model_1[1]*100))"
   ]
  },
  {
   "attachments": {},
   "cell_type": "markdown",
   "metadata": {},
   "source": [
    "### Crossvalidation on model 1: Neural Network"
   ]
  },
  {
   "cell_type": "code",
   "execution_count": 25,
   "metadata": {},
   "outputs": [],
   "source": [
    "from sklearn.model_selection import StratifiedKFold"
   ]
  },
  {
   "cell_type": "code",
   "execution_count": 26,
   "metadata": {},
   "outputs": [],
   "source": [
    "# Load dataset\n",
    "data = pd.read_csv('heartbeat_cleaned.csv')\n",
    "X = data.drop('Target', axis=1).values\n",
    "y = data['Target'].values"
   ]
  },
  {
   "cell_type": "code",
   "execution_count": 32,
   "metadata": {},
   "outputs": [],
   "source": [
    "# Define model architecture\n",
    "model = tf.keras.models.Sequential([\n",
    "  tf.keras.layers.Dense(80, activation='relu', input_dim=X.shape[1]),\n",
    "  tf.keras.layers.Dense(10, activation='relu'),\n",
    "  tf.keras.layers.Dense(5, activation='softmax')\n",
    "])\n",
    "\n",
    "optimizer = tf.keras.optimizers.Nadam(learning_rate=0.02)\n",
    "\n",
    "# Define training parameters\n",
    "model.compile(optimizer=optimizer, loss='categorical_crossentropy', metrics=['accuracy'])\n",
    "\n",
    "# Define cross-validation strategy\n",
    "kfold = StratifiedKFold(n_splits=5, shuffle=True, random_state=42)"
   ]
  },
  {
   "cell_type": "code",
   "execution_count": 33,
   "metadata": {},
   "outputs": [
    {
     "name": "stdout",
     "output_type": "stream",
     "text": [
      "Test loss: 0.2098, test accuracy: 0.9378\n",
      "Test loss: 0.2589, test accuracy: 0.9315\n",
      "Test loss: 0.2311, test accuracy: 0.9290\n",
      "Test loss: 0.2237, test accuracy: 0.9384\n",
      "Test loss: 0.1591, test accuracy: 0.9529\n"
     ]
    }
   ],
   "source": [
    "cross_val_acc_model1 = []\n",
    "# Perform cross-validation\n",
    "for train_idx, test_idx in kfold.split(X, y):\n",
    "  # Split data into training and testing sets\n",
    "  X_train, X_test = X[train_idx], X[test_idx]\n",
    "  y_train, y_test = y[train_idx], y[test_idx]\n",
    "\n",
    "  # One-hot encode class labels\n",
    "  y_train = tf.keras.utils.to_categorical(y_train, num_classes=5)\n",
    "  y_test = tf.keras.utils.to_categorical(y_test, num_classes=5)\n",
    "\n",
    "  # Train model on training set\n",
    "  model.fit(X_train, y_train, epochs=40, batch_size=32, verbose=0)\n",
    "\n",
    "  # Evaluate model on testing set\n",
    "  loss, accuracy = model.evaluate(X_test, y_test, verbose=0)\n",
    "  cross_val_acc_model1.append(accuracy)\n",
    "  print(f'Test loss: {loss:.4f}, test accuracy: {accuracy:.4f}')"
   ]
  },
  {
   "cell_type": "code",
   "execution_count": 34,
   "metadata": {},
   "outputs": [
    {
     "data": {
      "text/plain": [
       "0.9379397034645081"
      ]
     },
     "execution_count": 34,
     "metadata": {},
     "output_type": "execute_result"
    }
   ],
   "source": [
    "cross_val_acc_model1 = np.average(np.array(cross_val_acc_model1))\n",
    "cross_val_acc_model1"
   ]
  },
  {
   "attachments": {},
   "cell_type": "markdown",
   "metadata": {},
   "source": [
    "# 3.2 Build a deep cross-sectional (i.e., regular) Neural Network model using Keras (with two or more hidden layers) (2 points)"
   ]
  },
  {
   "cell_type": "code",
   "execution_count": 30,
   "metadata": {},
   "outputs": [],
   "source": [
    "model_2 = keras.models.Sequential([\n",
    "    \n",
    "    keras.layers.Flatten(input_shape=[80, 1]),\n",
    "    keras.layers.Dense(40, activation='relu'),\n",
    "    keras.layers.Dense(20, activation='relu'),\n",
    "    keras.layers.Dense(10, activation='relu'),\n",
    "    keras.layers.Dense(5, activation='softmax')\n",
    "    \n",
    "])"
   ]
  },
  {
   "cell_type": "code",
   "execution_count": 31,
   "metadata": {},
   "outputs": [
    {
     "name": "stdout",
     "output_type": "stream",
     "text": [
      "Epoch 1/40\n",
      "175/175 [==============================] - 2s 4ms/step - loss: 0.7434 - accuracy: 0.7430 - val_loss: 0.6560 - val_accuracy: 0.7605\n",
      "Epoch 2/40\n",
      "175/175 [==============================] - 0s 3ms/step - loss: 0.5998 - accuracy: 0.8116 - val_loss: 0.9980 - val_accuracy: 0.6181\n",
      "Epoch 3/40\n",
      "175/175 [==============================] - 0s 3ms/step - loss: 0.4687 - accuracy: 0.8415 - val_loss: 0.8003 - val_accuracy: 0.7839\n",
      "Epoch 4/40\n",
      "175/175 [==============================] - 0s 2ms/step - loss: 0.4209 - accuracy: 0.8693 - val_loss: 0.4047 - val_accuracy: 0.8777\n",
      "Epoch 5/40\n",
      "175/175 [==============================] - 0s 3ms/step - loss: 0.3689 - accuracy: 0.8855 - val_loss: 0.3511 - val_accuracy: 0.8982\n",
      "Epoch 6/40\n",
      "175/175 [==============================] - 1s 3ms/step - loss: 0.3446 - accuracy: 0.8982 - val_loss: 0.8824 - val_accuracy: 0.7621\n",
      "Epoch 7/40\n",
      "175/175 [==============================] - 0s 3ms/step - loss: 0.4027 - accuracy: 0.8692 - val_loss: 0.4579 - val_accuracy: 0.8358\n",
      "Epoch 8/40\n",
      "175/175 [==============================] - 0s 2ms/step - loss: 0.3518 - accuracy: 0.8907 - val_loss: 0.4553 - val_accuracy: 0.8760\n",
      "Epoch 9/40\n",
      "175/175 [==============================] - 0s 3ms/step - loss: 0.3379 - accuracy: 0.8950 - val_loss: 0.3190 - val_accuracy: 0.9054\n",
      "Epoch 10/40\n",
      "175/175 [==============================] - 0s 3ms/step - loss: 0.3210 - accuracy: 0.8995 - val_loss: 0.3772 - val_accuracy: 0.8932\n",
      "Epoch 11/40\n",
      "175/175 [==============================] - 0s 3ms/step - loss: 0.3370 - accuracy: 0.8921 - val_loss: 0.3131 - val_accuracy: 0.9045\n",
      "Epoch 12/40\n",
      "175/175 [==============================] - 0s 3ms/step - loss: 0.3211 - accuracy: 0.8993 - val_loss: 0.8549 - val_accuracy: 0.7441\n",
      "Epoch 13/40\n",
      "175/175 [==============================] - 1s 3ms/step - loss: 0.3332 - accuracy: 0.8947 - val_loss: 0.3257 - val_accuracy: 0.9028\n",
      "Epoch 14/40\n",
      "175/175 [==============================] - 1s 3ms/step - loss: 0.2898 - accuracy: 0.9085 - val_loss: 0.3316 - val_accuracy: 0.9066\n",
      "Epoch 15/40\n",
      "175/175 [==============================] - 1s 3ms/step - loss: 0.2951 - accuracy: 0.9045 - val_loss: 0.3234 - val_accuracy: 0.9037\n",
      "Epoch 16/40\n",
      "175/175 [==============================] - 0s 3ms/step - loss: 0.2898 - accuracy: 0.9090 - val_loss: 0.2758 - val_accuracy: 0.9217\n",
      "Epoch 17/40\n",
      "175/175 [==============================] - 1s 3ms/step - loss: 0.2722 - accuracy: 0.9221 - val_loss: 0.3530 - val_accuracy: 0.8953\n",
      "Epoch 18/40\n",
      "175/175 [==============================] - 1s 3ms/step - loss: 0.2669 - accuracy: 0.9191 - val_loss: 0.3682 - val_accuracy: 0.8957\n",
      "Epoch 19/40\n",
      "175/175 [==============================] - 1s 3ms/step - loss: 0.2767 - accuracy: 0.9155 - val_loss: 0.5954 - val_accuracy: 0.8237\n",
      "Epoch 20/40\n",
      "175/175 [==============================] - 1s 3ms/step - loss: 0.2661 - accuracy: 0.9210 - val_loss: 0.2904 - val_accuracy: 0.9167\n",
      "Epoch 21/40\n",
      "175/175 [==============================] - 1s 3ms/step - loss: 0.2633 - accuracy: 0.9216 - val_loss: 0.3255 - val_accuracy: 0.9129\n",
      "Epoch 22/40\n",
      "175/175 [==============================] - 1s 3ms/step - loss: 0.2504 - accuracy: 0.9252 - val_loss: 0.2784 - val_accuracy: 0.9259\n",
      "Epoch 23/40\n",
      "175/175 [==============================] - 0s 3ms/step - loss: 0.2478 - accuracy: 0.9286 - val_loss: 0.3326 - val_accuracy: 0.9045\n",
      "Epoch 24/40\n",
      "175/175 [==============================] - 1s 3ms/step - loss: 0.2390 - accuracy: 0.9289 - val_loss: 0.2861 - val_accuracy: 0.9146\n",
      "Epoch 25/40\n",
      "175/175 [==============================] - 1s 3ms/step - loss: 0.2439 - accuracy: 0.9266 - val_loss: 0.2893 - val_accuracy: 0.9242\n",
      "Epoch 26/40\n",
      "175/175 [==============================] - 1s 3ms/step - loss: 0.2487 - accuracy: 0.9296 - val_loss: 0.2725 - val_accuracy: 0.9292\n",
      "Epoch 27/40\n",
      "175/175 [==============================] - 1s 3ms/step - loss: 0.2682 - accuracy: 0.9223 - val_loss: 0.2786 - val_accuracy: 0.9255\n",
      "Epoch 28/40\n",
      "175/175 [==============================] - 1s 4ms/step - loss: 0.2469 - accuracy: 0.9293 - val_loss: 0.6336 - val_accuracy: 0.8467\n",
      "Epoch 29/40\n",
      "175/175 [==============================] - 1s 4ms/step - loss: 0.2476 - accuracy: 0.9300 - val_loss: 0.3368 - val_accuracy: 0.9150\n",
      "Epoch 30/40\n",
      "175/175 [==============================] - 0s 2ms/step - loss: 0.2579 - accuracy: 0.9241 - val_loss: 0.3407 - val_accuracy: 0.9058\n",
      "Epoch 31/40\n",
      "175/175 [==============================] - 1s 3ms/step - loss: 0.2532 - accuracy: 0.9277 - val_loss: 0.3088 - val_accuracy: 0.9129\n",
      "Epoch 32/40\n",
      "175/175 [==============================] - 1s 3ms/step - loss: 0.2455 - accuracy: 0.9302 - val_loss: 0.2640 - val_accuracy: 0.9322\n",
      "Epoch 33/40\n",
      "175/175 [==============================] - 0s 2ms/step - loss: 0.2242 - accuracy: 0.9365 - val_loss: 0.3743 - val_accuracy: 0.8861\n",
      "Epoch 34/40\n",
      "175/175 [==============================] - 0s 3ms/step - loss: 0.2359 - accuracy: 0.9302 - val_loss: 0.2459 - val_accuracy: 0.9334\n",
      "Epoch 35/40\n",
      "175/175 [==============================] - 0s 2ms/step - loss: 0.2285 - accuracy: 0.9340 - val_loss: 0.2757 - val_accuracy: 0.9179\n",
      "Epoch 36/40\n",
      "175/175 [==============================] - 0s 2ms/step - loss: 0.2319 - accuracy: 0.9350 - val_loss: 0.2894 - val_accuracy: 0.9326\n",
      "Epoch 37/40\n",
      "175/175 [==============================] - 0s 3ms/step - loss: 0.2236 - accuracy: 0.9349 - val_loss: 0.2688 - val_accuracy: 0.9338\n",
      "Epoch 38/40\n",
      "175/175 [==============================] - 0s 3ms/step - loss: 0.2498 - accuracy: 0.9270 - val_loss: 0.2363 - val_accuracy: 0.9405\n",
      "Epoch 39/40\n",
      "175/175 [==============================] - 1s 3ms/step - loss: 0.2413 - accuracy: 0.9302 - val_loss: 0.2577 - val_accuracy: 0.9296\n",
      "Epoch 40/40\n",
      "175/175 [==============================] - 0s 2ms/step - loss: 0.2231 - accuracy: 0.9332 - val_loss: 0.2573 - val_accuracy: 0.9217\n"
     ]
    }
   ],
   "source": [
    "np.random.seed(42)\n",
    "tf.random.set_seed(42)\n",
    "\n",
    "optimizer = tf.keras.optimizers.Nadam(learning_rate=0.02)\n",
    "\n",
    "# If multiclass, use \"sparse_categorical_crossentropy\" as the loss function\n",
    "model_2.compile(loss=\"sparse_categorical_crossentropy\", optimizer=optimizer, metrics=['accuracy'])\n",
    "\n",
    "\n",
    "history = model_2.fit(train_x, train_y, epochs=40,\n",
    "                    validation_data=(test_x, test_y))"
   ]
  },
  {
   "cell_type": "code",
   "execution_count": 35,
   "metadata": {},
   "outputs": [
    {
     "data": {
      "text/plain": [
       "[0.25734856724739075, 0.9216917753219604]"
      ]
     },
     "execution_count": 35,
     "metadata": {},
     "output_type": "execute_result"
    }
   ],
   "source": [
    "# evaluate the model\n",
    "\n",
    "scores_model_2 = model_2.evaluate(test_x, test_y, verbose=0)\n",
    "\n",
    "scores_model_2\n",
    "\n",
    "# In results, first is loss, second is accuracy"
   ]
  },
  {
   "cell_type": "code",
   "execution_count": 36,
   "metadata": {},
   "outputs": [
    {
     "name": "stdout",
     "output_type": "stream",
     "text": [
      "loss: 0.26\n",
      "accuracy: 92.17%\n"
     ]
    }
   ],
   "source": [
    "# extract the accuracy from model.evaluate\n",
    "\n",
    "print(\"%s: %.2f\" % (model_2.metrics_names[0], scores_model_2[0]))\n",
    "print(\"%s: %.2f%%\" % (model_2.metrics_names[1], scores_model_2[1]*100))"
   ]
  },
  {
   "attachments": {},
   "cell_type": "markdown",
   "metadata": {},
   "source": [
    "### Crossvalidation on model 2: Deep Neural Network"
   ]
  },
  {
   "cell_type": "code",
   "execution_count": 37,
   "metadata": {},
   "outputs": [],
   "source": [
    "# Define model architecture\n",
    "model = tf.keras.models.Sequential([\n",
    "  tf.keras.layers.Dense(80, activation='relu', input_dim=X.shape[1]),\n",
    "  tf.keras.layers.Dense(40, activation='relu'),\n",
    "  tf.keras.layers.Dense(20, activation='relu'),\n",
    "  tf.keras.layers.Dense(10, activation='relu'),\n",
    "  tf.keras.layers.Dense(5, activation='softmax')\n",
    "])\n",
    "\n",
    "optimizer = tf.keras.optimizers.Nadam(learning_rate=0.02)\n",
    "\n",
    "# Define training parameters\n",
    "model.compile(optimizer=optimizer, loss='categorical_crossentropy', metrics=['accuracy'])\n",
    "\n",
    "# Define cross-validation strategy\n",
    "kfold = StratifiedKFold(n_splits=5, shuffle=True, random_state=42)"
   ]
  },
  {
   "cell_type": "code",
   "execution_count": 38,
   "metadata": {},
   "outputs": [
    {
     "name": "stdout",
     "output_type": "stream",
     "text": [
      "Test loss: 0.3199, test accuracy: 0.9039\n",
      "Test loss: 0.3179, test accuracy: 0.9121\n",
      "Test loss: 0.2708, test accuracy: 0.9334\n",
      "Test loss: 0.2681, test accuracy: 0.9259\n",
      "Test loss: 0.2540, test accuracy: 0.9322\n"
     ]
    }
   ],
   "source": [
    "cross_val_acc_model2 = []\n",
    "# Perform cross-validation\n",
    "for train_idx, test_idx in kfold.split(X, y):\n",
    "  # Split data into training and testing sets\n",
    "  X_train, X_test = X[train_idx], X[test_idx]\n",
    "  y_train, y_test = y[train_idx], y[test_idx]\n",
    "\n",
    "  # One-hot encode class labels\n",
    "  y_train = tf.keras.utils.to_categorical(y_train, num_classes=5)\n",
    "  y_test = tf.keras.utils.to_categorical(y_test, num_classes=5)\n",
    "\n",
    "  # Train model on training set\n",
    "  model.fit(X_train, y_train, epochs=10, batch_size=32, verbose=0)\n",
    "\n",
    "  # Evaluate model on testing set\n",
    "  loss, accuracy = model.evaluate(X_test, y_test, verbose=0)\n",
    "  cross_val_acc_model2.append(accuracy)\n",
    "  print(f'Test loss: {loss:.4f}, test accuracy: {accuracy:.4f}')"
   ]
  },
  {
   "cell_type": "code",
   "execution_count": 39,
   "metadata": {},
   "outputs": [
    {
     "data": {
      "text/plain": [
       "0.9214824199676513"
      ]
     },
     "execution_count": 39,
     "metadata": {},
     "output_type": "execute_result"
    }
   ],
   "source": [
    "cross_val_acc_model2 = np.average(np.array(cross_val_acc_model2))\n",
    "cross_val_acc_model2"
   ]
  },
  {
   "attachments": {},
   "cell_type": "markdown",
   "metadata": {},
   "source": [
    "# 3.3 Build a LSTM Model (with only one layer) (2 points)"
   ]
  },
  {
   "cell_type": "code",
   "execution_count": 40,
   "metadata": {},
   "outputs": [],
   "source": [
    "n_steps = 80\n",
    "n_inputs = 1\n",
    "\n",
    "model_3 = keras.models.Sequential([\n",
    "    \n",
    "    keras.layers.LSTM(40, input_shape=[n_steps, n_inputs]),\n",
    "    keras.layers.Dense(5, activation='softmax')\n",
    "])"
   ]
  },
  {
   "cell_type": "code",
   "execution_count": 41,
   "metadata": {},
   "outputs": [],
   "source": [
    "from tensorflow.keras.callbacks import EarlyStopping\n",
    "\n",
    "\n",
    "earlystop = EarlyStopping(monitor='val_loss', patience=5, verbose=1, mode='auto')\n",
    "\n",
    "callback = [earlystop]"
   ]
  },
  {
   "cell_type": "code",
   "execution_count": 42,
   "metadata": {},
   "outputs": [
    {
     "name": "stdout",
     "output_type": "stream",
     "text": [
      "Epoch 1/20\n",
      "175/175 [==============================] - 10s 43ms/step - loss: 1.1183 - accuracy: 0.5738 - val_loss: 1.0421 - val_accuracy: 0.6126\n",
      "Epoch 2/20\n",
      "175/175 [==============================] - 7s 40ms/step - loss: 1.0494 - accuracy: 0.5969 - val_loss: 1.0232 - val_accuracy: 0.6173\n",
      "Epoch 3/20\n",
      "175/175 [==============================] - 7s 41ms/step - loss: 1.0128 - accuracy: 0.6251 - val_loss: 0.9954 - val_accuracy: 0.6621\n",
      "Epoch 4/20\n",
      "175/175 [==============================] - 7s 39ms/step - loss: 0.9313 - accuracy: 0.6622 - val_loss: 0.7742 - val_accuracy: 0.7446\n",
      "Epoch 5/20\n",
      "175/175 [==============================] - 7s 40ms/step - loss: 0.9470 - accuracy: 0.6543 - val_loss: 0.7381 - val_accuracy: 0.7412\n",
      "Epoch 6/20\n",
      "175/175 [==============================] - 7s 40ms/step - loss: 0.7130 - accuracy: 0.7423 - val_loss: 0.6731 - val_accuracy: 0.8044\n",
      "Epoch 7/20\n",
      "175/175 [==============================] - 7s 40ms/step - loss: 0.6109 - accuracy: 0.7949 - val_loss: 0.5869 - val_accuracy: 0.7973\n",
      "Epoch 8/20\n",
      "175/175 [==============================] - 7s 40ms/step - loss: 0.5593 - accuracy: 0.8055 - val_loss: 1.5193 - val_accuracy: 0.5318\n",
      "Epoch 9/20\n",
      "175/175 [==============================] - 7s 40ms/step - loss: 0.5294 - accuracy: 0.8128 - val_loss: 0.6606 - val_accuracy: 0.8145\n",
      "Epoch 10/20\n",
      "175/175 [==============================] - 7s 41ms/step - loss: 0.5142 - accuracy: 0.8178 - val_loss: 0.5584 - val_accuracy: 0.7894\n",
      "Epoch 11/20\n",
      "175/175 [==============================] - 7s 42ms/step - loss: 0.5803 - accuracy: 0.7931 - val_loss: 0.5045 - val_accuracy: 0.8350\n",
      "Epoch 12/20\n",
      "175/175 [==============================] - 7s 40ms/step - loss: 0.5043 - accuracy: 0.8254 - val_loss: 0.6804 - val_accuracy: 0.7785\n",
      "Epoch 13/20\n",
      "175/175 [==============================] - 7s 40ms/step - loss: 0.5189 - accuracy: 0.8254 - val_loss: 0.5691 - val_accuracy: 0.8237\n",
      "Epoch 14/20\n",
      "175/175 [==============================] - 7s 41ms/step - loss: 0.5907 - accuracy: 0.8074 - val_loss: 0.6484 - val_accuracy: 0.7869\n",
      "Epoch 15/20\n",
      "175/175 [==============================] - 7s 42ms/step - loss: 0.6285 - accuracy: 0.7879 - val_loss: 0.9153 - val_accuracy: 0.6528\n",
      "Epoch 16/20\n",
      "175/175 [==============================] - 7s 39ms/step - loss: 0.5721 - accuracy: 0.8135 - val_loss: 0.5226 - val_accuracy: 0.8392\n",
      "Epoch 16: early stopping\n"
     ]
    }
   ],
   "source": [
    "np.random.seed(42)\n",
    "tf.random.set_seed(42)\n",
    "\n",
    "optimizer = keras.optimizers.Nadam(learning_rate=0.02)\n",
    "# If multiclass, use \"sparse_categorical_crossentropy\" as the loss function. If binary, use: binary_crossentropy\n",
    "model_3.compile(loss=\"sparse_categorical_crossentropy\", optimizer=optimizer, metrics=['accuracy'])\n",
    "\n",
    "history = model_3.fit(train_x, train_y, epochs=20,\n",
    "                   validation_data = (test_x, test_y), callbacks=callback)"
   ]
  },
  {
   "cell_type": "code",
   "execution_count": 43,
   "metadata": {},
   "outputs": [
    {
     "data": {
      "text/plain": [
       "[0.5226406455039978, 0.839195966720581]"
      ]
     },
     "execution_count": 43,
     "metadata": {},
     "output_type": "execute_result"
    }
   ],
   "source": [
    "# evaluate the model\n",
    "\n",
    "scores_model_3 = model_3.evaluate(test_x, test_y, verbose=0)\n",
    "\n",
    "scores_model_3\n",
    "\n",
    "# In results, first is loss, second is accuracy"
   ]
  },
  {
   "cell_type": "code",
   "execution_count": 44,
   "metadata": {},
   "outputs": [
    {
     "name": "stdout",
     "output_type": "stream",
     "text": [
      "loss: 0.52\n",
      "accuracy: 83.92%\n"
     ]
    }
   ],
   "source": [
    "# extract the accuracy from model.evaluate\n",
    "\n",
    "print(\"%s: %.2f\" % (model_3.metrics_names[0], scores_model_3[0]))\n",
    "print(\"%s: %.2f%%\" % (model_3.metrics_names[1], scores_model_3[1]*100))"
   ]
  },
  {
   "attachments": {},
   "cell_type": "markdown",
   "metadata": {},
   "source": [
    "### Crossvalidation on model 3: LSTM with one layer"
   ]
  },
  {
   "cell_type": "code",
   "execution_count": 45,
   "metadata": {},
   "outputs": [],
   "source": [
    "from sklearn.model_selection import StratifiedKFold\n",
    "from tensorflow.keras.layers import LSTM, Dense"
   ]
  },
  {
   "cell_type": "code",
   "execution_count": 46,
   "metadata": {},
   "outputs": [],
   "source": [
    "# Define model architecture\n",
    "model = tf.keras.models.Sequential([\n",
    "  LSTM(80, input_shape=(X.shape[1], 1)),\n",
    "  Dense(40, activation='relu'),\n",
    "  Dense(5, activation='softmax')\n",
    "])\n",
    "\n",
    "optimizer = tf.keras.optimizers.Nadam(learning_rate=0.02)\n",
    "\n",
    "# Define training parameters\n",
    "model.compile(optimizer=optimizer, loss='categorical_crossentropy', metrics=['accuracy'])\n",
    "\n",
    "# Define cross-validation strategy\n",
    "kfold = StratifiedKFold(n_splits=5, shuffle=True, random_state=42)"
   ]
  },
  {
   "cell_type": "code",
   "execution_count": 47,
   "metadata": {},
   "outputs": [
    {
     "name": "stdout",
     "output_type": "stream",
     "text": [
      "Epoch 1/10\n",
      "199/199 [==============================] - 10s 38ms/step - loss: 1.1178 - accuracy: 0.5755\n",
      "Epoch 2/10\n",
      "199/199 [==============================] - 7s 36ms/step - loss: 1.1302 - accuracy: 0.5813\n",
      "Epoch 3/10\n",
      "199/199 [==============================] - 7s 36ms/step - loss: 1.1105 - accuracy: 0.5906\n",
      "Epoch 4/10\n",
      "199/199 [==============================] - 7s 37ms/step - loss: 1.0813 - accuracy: 0.5967\n",
      "Epoch 5/10\n",
      "199/199 [==============================] - 8s 39ms/step - loss: 1.0768 - accuracy: 0.5969\n",
      "Epoch 6/10\n",
      "199/199 [==============================] - 8s 40ms/step - loss: 1.0757 - accuracy: 0.5988\n",
      "Epoch 7/10\n",
      "199/199 [==============================] - 8s 38ms/step - loss: 1.0750 - accuracy: 0.5975\n",
      "Epoch 8/10\n",
      "199/199 [==============================] - 8s 39ms/step - loss: 1.0754 - accuracy: 0.5970\n",
      "Epoch 9/10\n",
      "199/199 [==============================] - 8s 39ms/step - loss: 1.0757 - accuracy: 0.5975\n",
      "Epoch 10/10\n",
      "199/199 [==============================] - 8s 39ms/step - loss: 1.0757 - accuracy: 0.5967\n",
      "Test loss: 1.0834, test accuracy: 0.6036\n",
      "Epoch 1/10\n",
      "199/199 [==============================] - 8s 39ms/step - loss: 1.0747 - accuracy: 0.5992\n",
      "Epoch 2/10\n",
      "199/199 [==============================] - 8s 39ms/step - loss: 1.0755 - accuracy: 0.5994\n",
      "Epoch 3/10\n",
      "199/199 [==============================] - 8s 39ms/step - loss: 1.0746 - accuracy: 0.6002\n",
      "Epoch 4/10\n",
      "199/199 [==============================] - 8s 40ms/step - loss: 1.0753 - accuracy: 0.5996\n",
      "Epoch 5/10\n",
      "199/199 [==============================] - 8s 41ms/step - loss: 1.0753 - accuracy: 0.5989\n",
      "Epoch 6/10\n",
      "199/199 [==============================] - 8s 39ms/step - loss: 1.0752 - accuracy: 0.6010\n",
      "Epoch 7/10\n",
      "199/199 [==============================] - 8s 41ms/step - loss: 1.0750 - accuracy: 0.5974\n",
      "Epoch 8/10\n",
      "199/199 [==============================] - 6s 32ms/step - loss: 1.0755 - accuracy: 0.5985\n",
      "Epoch 9/10\n",
      "199/199 [==============================] - 6s 31ms/step - loss: 1.0745 - accuracy: 0.5985\n",
      "Epoch 10/10\n",
      "199/199 [==============================] - 6s 31ms/step - loss: 1.0746 - accuracy: 0.6005\n",
      "Test loss: 1.0799, test accuracy: 0.5923\n",
      "Epoch 1/10\n",
      "199/199 [==============================] - 6s 30ms/step - loss: 1.1014 - accuracy: 0.5919\n",
      "Epoch 2/10\n",
      "199/199 [==============================] - 6s 30ms/step - loss: 1.1263 - accuracy: 0.5820\n",
      "Epoch 3/10\n",
      "199/199 [==============================] - 6s 31ms/step - loss: 1.1256 - accuracy: 0.5820\n",
      "Epoch 4/10\n",
      "199/199 [==============================] - 6s 32ms/step - loss: 1.1259 - accuracy: 0.5820\n",
      "Epoch 5/10\n",
      "199/199 [==============================] - 8s 38ms/step - loss: 1.1257 - accuracy: 0.5820\n",
      "Epoch 6/10\n",
      "199/199 [==============================] - 8s 40ms/step - loss: 1.1259 - accuracy: 0.5820\n",
      "Epoch 7/10\n",
      "199/199 [==============================] - 7s 38ms/step - loss: 1.1260 - accuracy: 0.5820\n",
      "Epoch 8/10\n",
      "199/199 [==============================] - 7s 35ms/step - loss: 1.1256 - accuracy: 0.5820\n",
      "Epoch 9/10\n",
      "199/199 [==============================] - 6s 32ms/step - loss: 1.1260 - accuracy: 0.5820\n",
      "Epoch 10/10\n",
      "199/199 [==============================] - 6s 30ms/step - loss: 1.1263 - accuracy: 0.5820\n",
      "Test loss: 1.1235, test accuracy: 0.5823\n",
      "Epoch 1/10\n",
      "199/199 [==============================] - 6s 32ms/step - loss: 1.1250 - accuracy: 0.5821\n",
      "Epoch 2/10\n",
      "199/199 [==============================] - 6s 30ms/step - loss: 1.1262 - accuracy: 0.5821\n",
      "Epoch 3/10\n",
      "199/199 [==============================] - 7s 35ms/step - loss: 1.1254 - accuracy: 0.5821\n",
      "Epoch 4/10\n",
      "199/199 [==============================] - 7s 34ms/step - loss: 1.1256 - accuracy: 0.5821\n",
      "Epoch 5/10\n",
      "199/199 [==============================] - 7s 34ms/step - loss: 1.1255 - accuracy: 0.5821\n",
      "Epoch 6/10\n",
      "199/199 [==============================] - 7s 34ms/step - loss: 1.1256 - accuracy: 0.5821\n",
      "Epoch 7/10\n",
      "199/199 [==============================] - 7s 34ms/step - loss: 1.1258 - accuracy: 0.5821\n",
      "Epoch 8/10\n",
      "199/199 [==============================] - 7s 33ms/step - loss: 1.1254 - accuracy: 0.5821\n",
      "Epoch 9/10\n",
      "199/199 [==============================] - 6s 30ms/step - loss: 1.1258 - accuracy: 0.5821\n",
      "Epoch 10/10\n",
      "199/199 [==============================] - 6s 29ms/step - loss: 1.1261 - accuracy: 0.5821\n",
      "Test loss: 1.1243, test accuracy: 0.5817\n",
      "Epoch 1/10\n",
      "199/199 [==============================] - 6s 30ms/step - loss: 1.1250 - accuracy: 0.5821\n",
      "Epoch 2/10\n",
      "199/199 [==============================] - 6s 30ms/step - loss: 1.1262 - accuracy: 0.5821\n",
      "Epoch 3/10\n",
      "199/199 [==============================] - 6s 30ms/step - loss: 1.1255 - accuracy: 0.5821\n",
      "Epoch 4/10\n",
      "199/199 [==============================] - 6s 29ms/step - loss: 1.1256 - accuracy: 0.5821\n",
      "Epoch 5/10\n",
      "199/199 [==============================] - 6s 29ms/step - loss: 1.1255 - accuracy: 0.5821\n",
      "Epoch 6/10\n",
      "199/199 [==============================] - 6s 30ms/step - loss: 1.1257 - accuracy: 0.5821\n",
      "Epoch 7/10\n",
      "199/199 [==============================] - 6s 30ms/step - loss: 1.1258 - accuracy: 0.5821\n",
      "Epoch 8/10\n",
      "199/199 [==============================] - 6s 30ms/step - loss: 1.1254 - accuracy: 0.5821\n",
      "Epoch 9/10\n",
      "199/199 [==============================] - 7s 34ms/step - loss: 1.1258 - accuracy: 0.5821\n",
      "Epoch 10/10\n",
      "199/199 [==============================] - 7s 35ms/step - loss: 1.1261 - accuracy: 0.5821\n",
      "Test loss: 1.1243, test accuracy: 0.5817\n"
     ]
    }
   ],
   "source": [
    "cross_val_acc_model3 = []\n",
    "# Perform cross-validation\n",
    "for train_idx, test_idx in kfold.split(X, y):\n",
    "  # Split data into training and testing sets\n",
    "  X_train, X_test = X[train_idx], X[test_idx]\n",
    "  y_train, y_test = y[train_idx], y[test_idx]\n",
    "\n",
    "  # Reshape data for LSTM\n",
    "  X_train = np.reshape(X_train, (X_train.shape[0], X_train.shape[1], 1))\n",
    "  X_test = np.reshape(X_test, (X_test.shape[0], X_test.shape[1], 1))\n",
    "\n",
    "  # One-hot encode class labels\n",
    "  y_train = tf.keras.utils.to_categorical(y_train, num_classes=5)\n",
    "  y_test = tf.keras.utils.to_categorical(y_test, num_classes=5)\n",
    "\n",
    "  # Train model on training set\n",
    "  model.fit(X_train, y_train, epochs=10, batch_size=32, verbose=1)\n",
    "\n",
    "  # Evaluate model on testing set\n",
    "  loss, accuracy = model.evaluate(X_test, y_test, verbose=0)\n",
    "  cross_val_acc_model3.append(accuracy)\n",
    "  print(f'Test loss: {loss:.4f}, test accuracy: {accuracy:.4f}')"
   ]
  },
  {
   "cell_type": "code",
   "execution_count": 48,
   "metadata": {},
   "outputs": [
    {
     "data": {
      "text/plain": [
       "0.5883165836334229"
      ]
     },
     "execution_count": 48,
     "metadata": {},
     "output_type": "execute_result"
    }
   ],
   "source": [
    "cross_val_acc_model3 = np.average(np.array(cross_val_acc_model3))\n",
    "cross_val_acc_model3"
   ]
  },
  {
   "attachments": {},
   "cell_type": "markdown",
   "metadata": {},
   "source": [
    "# 3.4 Build a deep LSTM Model (with only two layers) (2 points)"
   ]
  },
  {
   "cell_type": "code",
   "execution_count": 53,
   "metadata": {},
   "outputs": [],
   "source": [
    "n_steps = 80\n",
    "n_inputs = 1\n",
    "\n",
    "model_4 = keras.models.Sequential([\n",
    "    keras.layers.LSTM(40, return_sequences=True, input_shape=[n_steps, n_inputs]),\n",
    "    keras.layers.LSTM(10),\n",
    "    keras.layers.Dense(5, activation='softmax')\n",
    "])"
   ]
  },
  {
   "cell_type": "code",
   "execution_count": 54,
   "metadata": {},
   "outputs": [
    {
     "name": "stdout",
     "output_type": "stream",
     "text": [
      "Epoch 1/20\n",
      "175/175 [==============================] - 19s 85ms/step - loss: 1.1467 - accuracy: 0.5723 - val_loss: 1.0985 - val_accuracy: 0.5930\n",
      "Epoch 2/20\n",
      "175/175 [==============================] - 13s 76ms/step - loss: 1.1309 - accuracy: 0.5756 - val_loss: 1.1272 - val_accuracy: 0.5930\n",
      "Epoch 3/20\n",
      "175/175 [==============================] - 13s 73ms/step - loss: 1.1252 - accuracy: 0.5768 - val_loss: 1.1167 - val_accuracy: 0.5930\n",
      "Epoch 4/20\n",
      "175/175 [==============================] - 11s 64ms/step - loss: 1.1263 - accuracy: 0.5777 - val_loss: 1.1137 - val_accuracy: 0.5934\n",
      "Epoch 5/20\n",
      "175/175 [==============================] - 13s 73ms/step - loss: 1.1367 - accuracy: 0.5774 - val_loss: 1.1444 - val_accuracy: 0.5930\n",
      "Epoch 6/20\n",
      "175/175 [==============================] - 12s 67ms/step - loss: 1.1364 - accuracy: 0.5774 - val_loss: 1.1100 - val_accuracy: 0.5930\n",
      "Epoch 6: early stopping\n"
     ]
    }
   ],
   "source": [
    "np.random.seed(42)\n",
    "tf.random.set_seed(42)\n",
    "\n",
    "optimizer = keras.optimizers.Nadam(learning_rate=0.02)\n",
    "\n",
    "model_4.compile(loss=\"sparse_categorical_crossentropy\", optimizer=optimizer, metrics=['accuracy'])\n",
    "\n",
    "history = model_4.fit(train_x, train_y, epochs=20,\n",
    "                   validation_data = (test_x, test_y), callbacks=callback)"
   ]
  },
  {
   "cell_type": "code",
   "execution_count": 55,
   "metadata": {},
   "outputs": [
    {
     "data": {
      "text/plain": [
       "[1.1099871397018433, 0.5929648280143738]"
      ]
     },
     "execution_count": 55,
     "metadata": {},
     "output_type": "execute_result"
    }
   ],
   "source": [
    "# evaluate the model\n",
    "\n",
    "scores_model_4 = model_4.evaluate(test_x, test_y, verbose=0)\n",
    "\n",
    "scores_model_4\n",
    "\n",
    "# In results, first is loss, second is accuracy"
   ]
  },
  {
   "cell_type": "code",
   "execution_count": 56,
   "metadata": {},
   "outputs": [
    {
     "name": "stdout",
     "output_type": "stream",
     "text": [
      "loss: 1.11\n",
      "accuracy: 59.30%\n"
     ]
    }
   ],
   "source": [
    "# extract the accuracy from model.evaluate\n",
    "\n",
    "print(\"%s: %.2f\" % (model_4.metrics_names[0], scores_model_4[0]))\n",
    "print(\"%s: %.2f%%\" % (model_4.metrics_names[1], scores_model_4[1]*100))"
   ]
  },
  {
   "attachments": {},
   "cell_type": "markdown",
   "metadata": {},
   "source": [
    "### Crossvalidation on model 4: LSTM with two layer"
   ]
  },
  {
   "cell_type": "code",
   "execution_count": 57,
   "metadata": {},
   "outputs": [],
   "source": [
    "# Define model architecture\n",
    "model = tf.keras.models.Sequential([\n",
    "  LSTM(80, input_shape=(X.shape[1], 1)),\n",
    "  Dense(40, activation='relu'),\n",
    "  Dense(10, activation='relu'),\n",
    "  Dense(5, activation='softmax')\n",
    "])\n",
    "\n",
    "optimizer = tf.keras.optimizers.Nadam(learning_rate=0.02)\n",
    "\n",
    "# Define training parameters\n",
    "model.compile(optimizer=optimizer, loss='categorical_crossentropy', metrics=['accuracy'])\n",
    "\n",
    "# Define cross-validation strategy\n",
    "kfold = StratifiedKFold(n_splits=5, shuffle=True, random_state=42)"
   ]
  },
  {
   "cell_type": "code",
   "execution_count": 58,
   "metadata": {},
   "outputs": [
    {
     "name": "stdout",
     "output_type": "stream",
     "text": [
      "Epoch 1/10\n",
      "199/199 [==============================] - 10s 38ms/step - loss: 1.1196 - accuracy: 0.5721\n",
      "Epoch 2/10\n",
      "199/199 [==============================] - 7s 36ms/step - loss: 1.0162 - accuracy: 0.6104\n",
      "Epoch 3/10\n",
      "199/199 [==============================] - 7s 34ms/step - loss: 1.0818 - accuracy: 0.6091\n",
      "Epoch 4/10\n",
      "199/199 [==============================] - 7s 33ms/step - loss: 1.0431 - accuracy: 0.6090\n",
      "Epoch 5/10\n",
      "199/199 [==============================] - 8s 39ms/step - loss: 1.0536 - accuracy: 0.5991\n",
      "Epoch 6/10\n",
      "199/199 [==============================] - 8s 40ms/step - loss: 1.0602 - accuracy: 0.5818\n",
      "Epoch 7/10\n",
      "199/199 [==============================] - 6s 30ms/step - loss: 1.0363 - accuracy: 0.6014\n",
      "Epoch 8/10\n",
      "199/199 [==============================] - 7s 34ms/step - loss: 1.0112 - accuracy: 0.6187\n",
      "Epoch 9/10\n",
      "199/199 [==============================] - 8s 40ms/step - loss: 1.0029 - accuracy: 0.6244\n",
      "Epoch 10/10\n",
      "199/199 [==============================] - 7s 35ms/step - loss: 0.9863 - accuracy: 0.6361\n",
      "Test loss: 1.0064, test accuracy: 0.6231\n",
      "Epoch 1/10\n",
      "199/199 [==============================] - 6s 32ms/step - loss: 0.9844 - accuracy: 0.6344\n",
      "Epoch 2/10\n",
      "199/199 [==============================] - 8s 38ms/step - loss: 0.9762 - accuracy: 0.6405\n",
      "Epoch 3/10\n",
      "199/199 [==============================] - 8s 38ms/step - loss: 0.9767 - accuracy: 0.6382\n",
      "Epoch 4/10\n",
      "199/199 [==============================] - 8s 41ms/step - loss: 0.9992 - accuracy: 0.6239\n",
      "Epoch 5/10\n",
      "199/199 [==============================] - 8s 41ms/step - loss: 0.9709 - accuracy: 0.6376\n",
      "Epoch 6/10\n",
      "199/199 [==============================] - 8s 41ms/step - loss: 0.9953 - accuracy: 0.6333\n",
      "Epoch 7/10\n",
      "199/199 [==============================] - 8s 39ms/step - loss: 0.9454 - accuracy: 0.6588\n",
      "Epoch 8/10\n",
      "199/199 [==============================] - 8s 39ms/step - loss: 0.9349 - accuracy: 0.6663\n",
      "Epoch 9/10\n",
      "199/199 [==============================] - 8s 40ms/step - loss: 0.9663 - accuracy: 0.6515\n",
      "Epoch 10/10\n",
      "199/199 [==============================] - 8s 39ms/step - loss: 0.9602 - accuracy: 0.6437\n",
      "Test loss: 0.9509, test accuracy: 0.6539\n",
      "Epoch 1/10\n",
      "199/199 [==============================] - 8s 39ms/step - loss: 0.9549 - accuracy: 0.6493\n",
      "Epoch 2/10\n",
      "199/199 [==============================] - 8s 39ms/step - loss: 0.9432 - accuracy: 0.6588\n",
      "Epoch 3/10\n",
      "199/199 [==============================] - 8s 39ms/step - loss: 0.9814 - accuracy: 0.6322\n",
      "Epoch 4/10\n",
      "199/199 [==============================] - 8s 39ms/step - loss: 0.9605 - accuracy: 0.6437\n",
      "Epoch 5/10\n",
      "199/199 [==============================] - 8s 40ms/step - loss: 0.9498 - accuracy: 0.6506\n",
      "Epoch 6/10\n",
      "199/199 [==============================] - 8s 41ms/step - loss: 0.9385 - accuracy: 0.6539\n",
      "Epoch 7/10\n",
      "199/199 [==============================] - 8s 41ms/step - loss: 0.9388 - accuracy: 0.6561\n",
      "Epoch 8/10\n",
      "199/199 [==============================] - 8s 40ms/step - loss: 0.9564 - accuracy: 0.6495\n",
      "Epoch 9/10\n",
      "199/199 [==============================] - 8s 39ms/step - loss: 0.9287 - accuracy: 0.6617\n",
      "Epoch 10/10\n",
      "199/199 [==============================] - 8s 40ms/step - loss: 0.9509 - accuracy: 0.6558\n",
      "Test loss: 1.1421, test accuracy: 0.5773\n",
      "Epoch 1/10\n",
      "199/199 [==============================] - 8s 40ms/step - loss: 1.0575 - accuracy: 0.5826\n",
      "Epoch 2/10\n",
      "199/199 [==============================] - 8s 38ms/step - loss: 0.8585 - accuracy: 0.6707\n",
      "Epoch 3/10\n",
      "199/199 [==============================] - 8s 39ms/step - loss: 0.7795 - accuracy: 0.7134\n",
      "Epoch 4/10\n",
      "199/199 [==============================] - 8s 39ms/step - loss: 0.7466 - accuracy: 0.7291\n",
      "Epoch 5/10\n",
      "199/199 [==============================] - 8s 39ms/step - loss: 0.7187 - accuracy: 0.7398\n",
      "Epoch 6/10\n",
      "199/199 [==============================] - 8s 39ms/step - loss: 0.7062 - accuracy: 0.7464\n",
      "Epoch 7/10\n",
      "199/199 [==============================] - 8s 38ms/step - loss: 0.6969 - accuracy: 0.7524\n",
      "Epoch 8/10\n",
      "199/199 [==============================] - 8s 39ms/step - loss: 0.6819 - accuracy: 0.7506\n",
      "Epoch 9/10\n",
      "199/199 [==============================] - 8s 40ms/step - loss: 0.6725 - accuracy: 0.7594\n",
      "Epoch 10/10\n",
      "199/199 [==============================] - 8s 38ms/step - loss: 0.6607 - accuracy: 0.7655\n",
      "Test loss: 0.6423, test accuracy: 0.7783\n",
      "Epoch 1/10\n",
      "199/199 [==============================] - 8s 39ms/step - loss: 0.6389 - accuracy: 0.7825\n",
      "Epoch 2/10\n",
      "199/199 [==============================] - 8s 41ms/step - loss: 0.5964 - accuracy: 0.8039\n",
      "Epoch 3/10\n",
      "199/199 [==============================] - 7s 35ms/step - loss: 0.5691 - accuracy: 0.8068\n",
      "Epoch 4/10\n",
      "199/199 [==============================] - 7s 36ms/step - loss: 0.8022 - accuracy: 0.6795\n",
      "Epoch 5/10\n",
      "199/199 [==============================] - 9s 44ms/step - loss: 0.6625 - accuracy: 0.7666\n",
      "Epoch 6/10\n",
      "199/199 [==============================] - 9s 47ms/step - loss: 0.5897 - accuracy: 0.8087\n",
      "Epoch 7/10\n",
      "199/199 [==============================] - 9s 45ms/step - loss: 0.5720 - accuracy: 0.8194\n",
      "Epoch 8/10\n",
      "199/199 [==============================] - 7s 38ms/step - loss: 0.5459 - accuracy: 0.8226\n",
      "Epoch 9/10\n",
      "199/199 [==============================] - 8s 40ms/step - loss: 0.5472 - accuracy: 0.8218\n",
      "Epoch 10/10\n",
      "199/199 [==============================] - 10s 48ms/step - loss: 0.5363 - accuracy: 0.8230\n",
      "Test loss: 0.5764, test accuracy: 0.8210\n"
     ]
    }
   ],
   "source": [
    "cross_val_acc_model4 = []\n",
    "# Perform cross-validation\n",
    "for train_idx, test_idx in kfold.split(X, y):\n",
    "  # Split data into training and testing sets\n",
    "  X_train, X_test = X[train_idx], X[test_idx]\n",
    "  y_train, y_test = y[train_idx], y[test_idx]\n",
    "\n",
    "  # Reshape data for LSTM\n",
    "  X_train = np.reshape(X_train, (X_train.shape[0], X_train.shape[1], 1))\n",
    "  X_test = np.reshape(X_test, (X_test.shape[0], X_test.shape[1], 1))\n",
    "\n",
    "  # One-hot encode class labels\n",
    "  y_train = tf.keras.utils.to_categorical(y_train, num_classes=5)\n",
    "  y_test = tf.keras.utils.to_categorical(y_test, num_classes=5)\n",
    "\n",
    "  # Train model on training set\n",
    "  model.fit(X_train, y_train, epochs=10, batch_size=32, verbose=1)\n",
    "\n",
    "  # Evaluate model on testing set\n",
    "  loss, accuracy = model.evaluate(X_test, y_test, verbose=0)\n",
    "  cross_val_acc_model4.append(accuracy)\n",
    "  print(f'Test loss: {loss:.4f}, test accuracy: {accuracy:.4f}')"
   ]
  },
  {
   "cell_type": "code",
   "execution_count": 59,
   "metadata": {},
   "outputs": [
    {
     "data": {
      "text/plain": [
       "0.690703523159027"
      ]
     },
     "execution_count": 59,
     "metadata": {},
     "output_type": "execute_result"
    }
   ],
   "source": [
    "cross_val_acc_model4 = np.average(np.array(cross_val_acc_model4))\n",
    "cross_val_acc_model4"
   ]
  },
  {
   "attachments": {},
   "cell_type": "markdown",
   "metadata": {},
   "source": [
    "# 3.5 Build a GRU Model (with only one layer) (2 points)"
   ]
  },
  {
   "cell_type": "code",
   "execution_count": 60,
   "metadata": {},
   "outputs": [],
   "source": [
    "n_steps = 80\n",
    "n_inputs = 1\n",
    "\n",
    "model_5 = keras.models.Sequential([\n",
    "    keras.layers.GRU(40, input_shape=[n_steps, n_inputs]),\n",
    "    keras.layers.Dense(5, activation='softmax')\n",
    "])"
   ]
  },
  {
   "cell_type": "code",
   "execution_count": 61,
   "metadata": {},
   "outputs": [
    {
     "name": "stdout",
     "output_type": "stream",
     "text": [
      "Epoch 1/20\n",
      "175/175 [==============================] - 11s 49ms/step - loss: 1.0623 - accuracy: 0.5942 - val_loss: 0.8903 - val_accuracy: 0.6834\n",
      "Epoch 2/20\n",
      "175/175 [==============================] - 8s 45ms/step - loss: 0.9481 - accuracy: 0.6499 - val_loss: 0.8764 - val_accuracy: 0.7060\n",
      "Epoch 3/20\n",
      "175/175 [==============================] - 7s 40ms/step - loss: 0.7975 - accuracy: 0.7346 - val_loss: 0.7803 - val_accuracy: 0.7316\n",
      "Epoch 4/20\n",
      "175/175 [==============================] - 7s 38ms/step - loss: 0.7249 - accuracy: 0.7656 - val_loss: 0.7114 - val_accuracy: 0.7751\n",
      "Epoch 5/20\n",
      "175/175 [==============================] - 6s 37ms/step - loss: 0.6802 - accuracy: 0.7660 - val_loss: 0.6646 - val_accuracy: 0.7651\n",
      "Epoch 6/20\n",
      "175/175 [==============================] - 7s 38ms/step - loss: 0.6223 - accuracy: 0.7859 - val_loss: 0.6169 - val_accuracy: 0.7730\n",
      "Epoch 7/20\n",
      "175/175 [==============================] - 7s 38ms/step - loss: 0.5924 - accuracy: 0.7959 - val_loss: 0.6081 - val_accuracy: 0.7869\n",
      "Epoch 8/20\n",
      "175/175 [==============================] - 7s 37ms/step - loss: 0.8244 - accuracy: 0.6875 - val_loss: 1.5679 - val_accuracy: 0.4150\n",
      "Epoch 9/20\n",
      "175/175 [==============================] - 7s 38ms/step - loss: 0.8135 - accuracy: 0.6879 - val_loss: 0.7343 - val_accuracy: 0.7253\n",
      "Epoch 10/20\n",
      "175/175 [==============================] - 8s 47ms/step - loss: 0.6636 - accuracy: 0.7602 - val_loss: 0.7374 - val_accuracy: 0.6943\n",
      "Epoch 11/20\n",
      "175/175 [==============================] - 7s 38ms/step - loss: 0.6114 - accuracy: 0.7889 - val_loss: 0.5800 - val_accuracy: 0.8007\n",
      "Epoch 12/20\n",
      "175/175 [==============================] - 7s 39ms/step - loss: 0.5704 - accuracy: 0.8146 - val_loss: 0.5930 - val_accuracy: 0.7915\n",
      "Epoch 13/20\n",
      "175/175 [==============================] - 7s 42ms/step - loss: 0.5404 - accuracy: 0.8227 - val_loss: 0.5828 - val_accuracy: 0.8007\n",
      "Epoch 14/20\n",
      "175/175 [==============================] - 7s 42ms/step - loss: 0.5148 - accuracy: 0.8394 - val_loss: 0.4933 - val_accuracy: 0.8312\n",
      "Epoch 15/20\n",
      "175/175 [==============================] - 8s 46ms/step - loss: 0.4960 - accuracy: 0.8478 - val_loss: 0.5338 - val_accuracy: 0.8346\n",
      "Epoch 16/20\n",
      "175/175 [==============================] - 7s 41ms/step - loss: 0.4781 - accuracy: 0.8584 - val_loss: 0.4538 - val_accuracy: 0.8656\n",
      "Epoch 17/20\n",
      "175/175 [==============================] - 7s 42ms/step - loss: 0.4641 - accuracy: 0.8613 - val_loss: 0.4422 - val_accuracy: 0.8685\n",
      "Epoch 18/20\n",
      "175/175 [==============================] - 8s 45ms/step - loss: 0.4473 - accuracy: 0.8702 - val_loss: 0.4435 - val_accuracy: 0.8744\n",
      "Epoch 19/20\n",
      "175/175 [==============================] - 10s 55ms/step - loss: 0.4300 - accuracy: 0.8780 - val_loss: 0.7038 - val_accuracy: 0.7454\n",
      "Epoch 20/20\n",
      "175/175 [==============================] - 9s 52ms/step - loss: 0.4183 - accuracy: 0.8753 - val_loss: 0.4086 - val_accuracy: 0.8802\n"
     ]
    }
   ],
   "source": [
    "np.random.seed(42)\n",
    "tf.random.set_seed(42)\n",
    "\n",
    "optimizer = keras.optimizers.Nadam(learning_rate=0.02)\n",
    "\n",
    "model_5.compile(loss=\"sparse_categorical_crossentropy\", optimizer=optimizer, metrics=['accuracy'])\n",
    "\n",
    "history = model_5.fit(train_x, train_y, epochs=20,\n",
    "                   validation_data = (test_x, test_y), callbacks=callback)"
   ]
  },
  {
   "cell_type": "code",
   "execution_count": 62,
   "metadata": {},
   "outputs": [
    {
     "data": {
      "text/plain": [
       "[0.40862205624580383, 0.8802344799041748]"
      ]
     },
     "execution_count": 62,
     "metadata": {},
     "output_type": "execute_result"
    }
   ],
   "source": [
    "# evaluate the model\n",
    "\n",
    "scores_model_5 = model_5.evaluate(test_x, test_y, verbose=0)\n",
    "\n",
    "scores_model_5\n",
    "\n",
    "# In results, first is loss, second is accuracy"
   ]
  },
  {
   "cell_type": "code",
   "execution_count": 63,
   "metadata": {},
   "outputs": [
    {
     "name": "stdout",
     "output_type": "stream",
     "text": [
      "loss: 0.41\n",
      "accuracy: 88.02%\n"
     ]
    }
   ],
   "source": [
    "# extract the accuracy from model.evaluate\n",
    "\n",
    "print(\"%s: %.2f\" % (model_5.metrics_names[0], scores_model_5[0]))\n",
    "print(\"%s: %.2f%%\" % (model_5.metrics_names[1], scores_model_5[1]*100))"
   ]
  },
  {
   "attachments": {},
   "cell_type": "markdown",
   "metadata": {},
   "source": [
    "### Crossvalidation on model 5: GRU with one layer"
   ]
  },
  {
   "cell_type": "code",
   "execution_count": 64,
   "metadata": {},
   "outputs": [],
   "source": [
    "from tensorflow.keras.layers import GRU, Dense"
   ]
  },
  {
   "cell_type": "code",
   "execution_count": 65,
   "metadata": {},
   "outputs": [],
   "source": [
    "# Define model architecture\n",
    "model = tf.keras.models.Sequential([\n",
    "  GRU(80, input_shape=(X.shape[1], 1)),\n",
    "  Dense(40, activation='relu'),\n",
    "  Dense(5, activation='softmax')\n",
    "])\n",
    "\n",
    "optimizer = tf.keras.optimizers.Nadam(learning_rate=0.02)\n",
    "\n",
    "# Define training parameters\n",
    "model.compile(optimizer=optimizer, loss='categorical_crossentropy', metrics=['accuracy'])\n",
    "\n",
    "# Define cross-validation strategy\n",
    "kfold = StratifiedKFold(n_splits=5, shuffle=True, random_state=42)"
   ]
  },
  {
   "cell_type": "code",
   "execution_count": 66,
   "metadata": {},
   "outputs": [
    {
     "name": "stdout",
     "output_type": "stream",
     "text": [
      "Epoch 1/10\n",
      "199/199 [==============================] - 11s 43ms/step - loss: 1.0572 - accuracy: 0.6041\n",
      "Epoch 2/10\n",
      "199/199 [==============================] - 7s 36ms/step - loss: 0.6640 - accuracy: 0.7681\n",
      "Epoch 3/10\n",
      "199/199 [==============================] - 7s 37ms/step - loss: 0.4997 - accuracy: 0.8317\n",
      "Epoch 4/10\n",
      "199/199 [==============================] - 8s 38ms/step - loss: 0.3742 - accuracy: 0.8821\n",
      "Epoch 5/10\n",
      "199/199 [==============================] - 8s 40ms/step - loss: 0.3341 - accuracy: 0.8960\n",
      "Epoch 6/10\n",
      "199/199 [==============================] - 8s 42ms/step - loss: 0.3164 - accuracy: 0.9000\n",
      "Epoch 7/10\n",
      "199/199 [==============================] - 7s 35ms/step - loss: 0.3539 - accuracy: 0.8948\n",
      "Epoch 8/10\n",
      "199/199 [==============================] - 7s 34ms/step - loss: 1.0523 - accuracy: 0.5898\n",
      "Epoch 9/10\n",
      "199/199 [==============================] - 7s 33ms/step - loss: 0.7866 - accuracy: 0.7134\n",
      "Epoch 10/10\n",
      "199/199 [==============================] - 6s 29ms/step - loss: 0.6931 - accuracy: 0.7599\n",
      "Test loss: 0.6284, test accuracy: 0.7776\n",
      "Epoch 1/10\n",
      "199/199 [==============================] - 5s 26ms/step - loss: 0.6294 - accuracy: 0.7918\n",
      "Epoch 2/10\n",
      "199/199 [==============================] - 5s 27ms/step - loss: 0.5911 - accuracy: 0.8210\n",
      "Epoch 3/10\n",
      "199/199 [==============================] - 5s 27ms/step - loss: 0.5809 - accuracy: 0.8193\n",
      "Epoch 4/10\n",
      "199/199 [==============================] - 5s 27ms/step - loss: 0.6070 - accuracy: 0.7984\n",
      "Epoch 5/10\n",
      "199/199 [==============================] - 7s 35ms/step - loss: 0.6130 - accuracy: 0.8039\n",
      "Epoch 6/10\n",
      "199/199 [==============================] - 6s 32ms/step - loss: 0.5637 - accuracy: 0.8182\n",
      "Epoch 7/10\n",
      "199/199 [==============================] - 6s 28ms/step - loss: 0.5631 - accuracy: 0.8310\n",
      "Epoch 8/10\n",
      "199/199 [==============================] - 6s 29ms/step - loss: 0.5413 - accuracy: 0.8365\n",
      "Epoch 9/10\n",
      "199/199 [==============================] - 6s 28ms/step - loss: 0.5374 - accuracy: 0.8453\n",
      "Epoch 10/10\n",
      "199/199 [==============================] - 7s 34ms/step - loss: 0.5297 - accuracy: 0.8466\n",
      "Test loss: 0.5546, test accuracy: 0.8511\n",
      "Epoch 1/10\n",
      "199/199 [==============================] - 7s 35ms/step - loss: 0.5252 - accuracy: 0.8475\n",
      "Epoch 2/10\n",
      "199/199 [==============================] - 6s 29ms/step - loss: 0.5136 - accuracy: 0.8527\n",
      "Epoch 3/10\n",
      "199/199 [==============================] - 6s 30ms/step - loss: 0.5055 - accuracy: 0.8527\n",
      "Epoch 4/10\n",
      "199/199 [==============================] - 6s 30ms/step - loss: 0.4835 - accuracy: 0.8588\n",
      "Epoch 5/10\n",
      "199/199 [==============================] - 6s 30ms/step - loss: 0.4830 - accuracy: 0.8535\n",
      "Epoch 6/10\n",
      "199/199 [==============================] - 6s 32ms/step - loss: 0.4625 - accuracy: 0.8653\n",
      "Epoch 7/10\n",
      "199/199 [==============================] - 6s 32ms/step - loss: 0.4557 - accuracy: 0.8670\n",
      "Epoch 8/10\n",
      "199/199 [==============================] - 6s 32ms/step - loss: 0.4698 - accuracy: 0.8640\n",
      "Epoch 9/10\n",
      "199/199 [==============================] - 8s 40ms/step - loss: 0.4855 - accuracy: 0.8628\n",
      "Epoch 10/10\n",
      "199/199 [==============================] - 6s 30ms/step - loss: 0.4626 - accuracy: 0.8733\n",
      "Test loss: 0.4887, test accuracy: 0.8744\n",
      "Epoch 1/10\n",
      "199/199 [==============================] - 7s 36ms/step - loss: 0.4507 - accuracy: 0.8792\n",
      "Epoch 2/10\n",
      "199/199 [==============================] - 7s 36ms/step - loss: 0.4416 - accuracy: 0.8778\n",
      "Epoch 3/10\n",
      "199/199 [==============================] - 7s 33ms/step - loss: 0.4369 - accuracy: 0.8833\n",
      "Epoch 4/10\n",
      "199/199 [==============================] - 8s 38ms/step - loss: 0.4577 - accuracy: 0.8742\n",
      "Epoch 5/10\n",
      "199/199 [==============================] - 7s 33ms/step - loss: 0.5064 - accuracy: 0.8508\n",
      "Epoch 6/10\n",
      "199/199 [==============================] - 6s 29ms/step - loss: 0.4400 - accuracy: 0.8778\n",
      "Epoch 7/10\n",
      "199/199 [==============================] - 7s 35ms/step - loss: 0.4299 - accuracy: 0.8830\n",
      "Epoch 8/10\n",
      "199/199 [==============================] - 7s 33ms/step - loss: 0.4275 - accuracy: 0.8854\n",
      "Epoch 9/10\n",
      "199/199 [==============================] - 7s 35ms/step - loss: 0.4290 - accuracy: 0.8786\n",
      "Epoch 10/10\n",
      "199/199 [==============================] - 7s 34ms/step - loss: 0.4608 - accuracy: 0.8648\n",
      "Test loss: 0.4484, test accuracy: 0.8894\n",
      "Epoch 1/10\n",
      "199/199 [==============================] - 6s 31ms/step - loss: 0.5647 - accuracy: 0.8331\n",
      "Epoch 2/10\n",
      "199/199 [==============================] - 6s 28ms/step - loss: 0.5205 - accuracy: 0.8438\n",
      "Epoch 3/10\n",
      "199/199 [==============================] - 6s 28ms/step - loss: 0.4857 - accuracy: 0.8617\n",
      "Epoch 4/10\n",
      "199/199 [==============================] - 5s 25ms/step - loss: 0.4802 - accuracy: 0.8673\n",
      "Epoch 5/10\n",
      "199/199 [==============================] - 5s 26ms/step - loss: 0.4804 - accuracy: 0.8697\n",
      "Epoch 6/10\n",
      "199/199 [==============================] - 5s 27ms/step - loss: 0.4741 - accuracy: 0.8687\n",
      "Epoch 7/10\n",
      "199/199 [==============================] - 5s 26ms/step - loss: 0.4583 - accuracy: 0.8786\n",
      "Epoch 8/10\n",
      "199/199 [==============================] - 5s 25ms/step - loss: 0.4512 - accuracy: 0.8772\n",
      "Epoch 9/10\n",
      "199/199 [==============================] - 5s 26ms/step - loss: 0.4793 - accuracy: 0.8596\n",
      "Epoch 10/10\n",
      "199/199 [==============================] - 5s 25ms/step - loss: 0.4458 - accuracy: 0.8802\n",
      "Test loss: 0.4871, test accuracy: 0.8825\n"
     ]
    }
   ],
   "source": [
    "cross_val_acc_model5 = []\n",
    "# Perform cross-validation\n",
    "for train_idx, test_idx in kfold.split(X, y):\n",
    "  # Split data into training and testing sets\n",
    "  X_train, X_test = X[train_idx], X[test_idx]\n",
    "  y_train, y_test = y[train_idx], y[test_idx]\n",
    "\n",
    "  # Reshape data for GRU\n",
    "  X_train = np.reshape(X_train, (X_train.shape[0], X_train.shape[1], 1))\n",
    "  X_test = np.reshape(X_test, (X_test.shape[0], X_test.shape[1], 1))\n",
    "\n",
    "  # One-hot encode class labels\n",
    "  y_train = tf.keras.utils.to_categorical(y_train, num_classes=5)\n",
    "  y_test = tf.keras.utils.to_categorical(y_test, num_classes=5)\n",
    "\n",
    "  # Train model on training set\n",
    "  model.fit(X_train, y_train, epochs=10, batch_size=32, verbose=1)\n",
    "\n",
    "  # Evaluate model on testing set\n",
    "  loss, accuracy = model.evaluate(X_test, y_test, verbose=0)\n",
    "  cross_val_acc_model5.append(accuracy)\n",
    "  print(f'Test loss: {loss:.4f}, test accuracy: {accuracy:.4f}')"
   ]
  },
  {
   "cell_type": "code",
   "execution_count": 67,
   "metadata": {},
   "outputs": [
    {
     "data": {
      "text/plain": [
       "0.8550251245498657"
      ]
     },
     "execution_count": 67,
     "metadata": {},
     "output_type": "execute_result"
    }
   ],
   "source": [
    "cross_val_acc_model5 = np.average(np.array(cross_val_acc_model5))\n",
    "cross_val_acc_model5"
   ]
  },
  {
   "attachments": {},
   "cell_type": "markdown",
   "metadata": {},
   "source": [
    "# 3.6 Build a deep GRU Model (with only two layers) (2 points)"
   ]
  },
  {
   "cell_type": "code",
   "execution_count": 68,
   "metadata": {},
   "outputs": [],
   "source": [
    "n_steps = 80\n",
    "n_inputs = 1\n",
    "\n",
    "model_6 = keras.models.Sequential([\n",
    "    keras.layers.GRU(20, return_sequences=True, input_shape=[n_steps, n_inputs]),\n",
    "    keras.layers.GRU(10),\n",
    "    keras.layers.Dense(5, activation='softmax')\n",
    "])"
   ]
  },
  {
   "cell_type": "code",
   "execution_count": 69,
   "metadata": {},
   "outputs": [
    {
     "name": "stdout",
     "output_type": "stream",
     "text": [
      "Epoch 1/20\n",
      "175/175 [==============================] - 19s 81ms/step - loss: 1.0638 - accuracy: 0.5899 - val_loss: 1.1065 - val_accuracy: 0.5930\n",
      "Epoch 2/20\n",
      "175/175 [==============================] - 11s 65ms/step - loss: 1.0261 - accuracy: 0.6193 - val_loss: 0.8875 - val_accuracy: 0.6407\n",
      "Epoch 3/20\n",
      "175/175 [==============================] - 11s 63ms/step - loss: 0.6329 - accuracy: 0.7976 - val_loss: 0.9303 - val_accuracy: 0.6294\n",
      "Epoch 4/20\n",
      "175/175 [==============================] - 11s 63ms/step - loss: 0.5056 - accuracy: 0.8417 - val_loss: 0.4638 - val_accuracy: 0.8551\n",
      "Epoch 5/20\n",
      "175/175 [==============================] - 11s 62ms/step - loss: 0.4435 - accuracy: 0.8613 - val_loss: 0.3984 - val_accuracy: 0.8681\n",
      "Epoch 6/20\n",
      "175/175 [==============================] - 11s 62ms/step - loss: 0.4075 - accuracy: 0.8760 - val_loss: 0.5665 - val_accuracy: 0.8065\n",
      "Epoch 7/20\n",
      "175/175 [==============================] - 11s 61ms/step - loss: 0.3899 - accuracy: 0.8846 - val_loss: 0.4179 - val_accuracy: 0.8652\n",
      "Epoch 8/20\n",
      "175/175 [==============================] - 11s 62ms/step - loss: 0.3720 - accuracy: 0.8887 - val_loss: 0.5853 - val_accuracy: 0.8028\n",
      "Epoch 9/20\n",
      "175/175 [==============================] - 11s 65ms/step - loss: 0.3519 - accuracy: 0.8936 - val_loss: 0.4038 - val_accuracy: 0.8752\n",
      "Epoch 10/20\n",
      "175/175 [==============================] - 11s 65ms/step - loss: 0.3317 - accuracy: 0.9017 - val_loss: 0.6931 - val_accuracy: 0.7069\n",
      "Epoch 10: early stopping\n"
     ]
    }
   ],
   "source": [
    "np.random.seed(42)\n",
    "tf.random.set_seed(42)\n",
    "\n",
    "optimizer = keras.optimizers.Nadam(learning_rate=0.02)\n",
    "\n",
    "model_6.compile(loss=\"sparse_categorical_crossentropy\", optimizer=optimizer, metrics=['accuracy'])\n",
    "\n",
    "history = model_6.fit(train_x, train_y, epochs=20,\n",
    "                   validation_data = (test_x, test_y), callbacks=callback)"
   ]
  },
  {
   "cell_type": "code",
   "execution_count": 70,
   "metadata": {},
   "outputs": [
    {
     "data": {
      "text/plain": [
       "[0.6930766701698303, 0.7068676948547363]"
      ]
     },
     "execution_count": 70,
     "metadata": {},
     "output_type": "execute_result"
    }
   ],
   "source": [
    "# evaluate the model\n",
    "\n",
    "scores_model_6 = model_6.evaluate(test_x, test_y, verbose=0)\n",
    "\n",
    "scores_model_6\n",
    "\n",
    "# In results, first is loss, second is accuracy"
   ]
  },
  {
   "cell_type": "code",
   "execution_count": 71,
   "metadata": {},
   "outputs": [
    {
     "name": "stdout",
     "output_type": "stream",
     "text": [
      "loss: 0.69\n",
      "accuracy: 70.69%\n"
     ]
    }
   ],
   "source": [
    "# extract the accuracy from model.evaluate\n",
    "\n",
    "print(\"%s: %.2f\" % (model_6.metrics_names[0], scores_model_6[0]))\n",
    "print(\"%s: %.2f%%\" % (model_6.metrics_names[1], scores_model_6[1]*100))"
   ]
  },
  {
   "attachments": {},
   "cell_type": "markdown",
   "metadata": {},
   "source": [
    "### Crossvalidation on model 6: GRU with two layers"
   ]
  },
  {
   "cell_type": "code",
   "execution_count": 72,
   "metadata": {},
   "outputs": [],
   "source": [
    "# Define model architecture\n",
    "model = tf.keras.models.Sequential([\n",
    "  GRU(80, input_shape=(X.shape[1], 1)),\n",
    "  Dense(20, activation='relu'),\n",
    "  Dense(10, activation='relu'),\n",
    "  Dense(5, activation='softmax')\n",
    "])\n",
    "\n",
    "optimizer = tf.keras.optimizers.Nadam(learning_rate=0.02)\n",
    "\n",
    "# Define training parameters\n",
    "model.compile(optimizer=optimizer, loss='categorical_crossentropy', metrics=['accuracy'])\n",
    "\n",
    "# Define cross-validation strategy\n",
    "kfold = StratifiedKFold(n_splits=5, shuffle=True, random_state=42)"
   ]
  },
  {
   "cell_type": "code",
   "execution_count": 73,
   "metadata": {},
   "outputs": [
    {
     "name": "stdout",
     "output_type": "stream",
     "text": [
      "Epoch 1/10\n",
      "199/199 [==============================] - 8s 28ms/step - loss: 0.9887 - accuracy: 0.6401\n",
      "Epoch 2/10\n",
      "199/199 [==============================] - 5s 26ms/step - loss: 0.6311 - accuracy: 0.7872\n",
      "Epoch 3/10\n",
      "199/199 [==============================] - 5s 25ms/step - loss: 0.5324 - accuracy: 0.8219\n",
      "Epoch 4/10\n",
      "199/199 [==============================] - 5s 26ms/step - loss: 0.5165 - accuracy: 0.8247\n",
      "Epoch 5/10\n",
      "199/199 [==============================] - 5s 26ms/step - loss: 0.4757 - accuracy: 0.8459\n",
      "Epoch 6/10\n",
      "199/199 [==============================] - 5s 27ms/step - loss: 0.4400 - accuracy: 0.8574\n",
      "Epoch 7/10\n",
      "199/199 [==============================] - 5s 26ms/step - loss: 0.4264 - accuracy: 0.8664\n",
      "Epoch 8/10\n",
      "199/199 [==============================] - 5s 27ms/step - loss: 0.4096 - accuracy: 0.8697\n",
      "Epoch 9/10\n",
      "199/199 [==============================] - 5s 25ms/step - loss: 0.4450 - accuracy: 0.8618\n",
      "Epoch 10/10\n",
      "199/199 [==============================] - 5s 26ms/step - loss: 0.4352 - accuracy: 0.8609\n",
      "Test loss: 0.4420, test accuracy: 0.8543\n",
      "Epoch 1/10\n",
      "199/199 [==============================] - 7s 34ms/step - loss: 0.6616 - accuracy: 0.7698\n",
      "Epoch 2/10\n",
      "199/199 [==============================] - 6s 31ms/step - loss: 0.6321 - accuracy: 0.7677\n",
      "Epoch 3/10\n",
      "199/199 [==============================] - 6s 28ms/step - loss: 0.5515 - accuracy: 0.8048\n",
      "Epoch 4/10\n",
      "199/199 [==============================] - 5s 26ms/step - loss: 0.5084 - accuracy: 0.8320\n",
      "Epoch 5/10\n",
      "199/199 [==============================] - 6s 31ms/step - loss: 0.4709 - accuracy: 0.8518\n",
      "Epoch 6/10\n",
      "199/199 [==============================] - 6s 31ms/step - loss: 0.4322 - accuracy: 0.8689\n",
      "Epoch 7/10\n",
      "199/199 [==============================] - 5s 27ms/step - loss: 0.4418 - accuracy: 0.8562\n",
      "Epoch 8/10\n",
      "199/199 [==============================] - 6s 31ms/step - loss: 0.4203 - accuracy: 0.8697\n",
      "Epoch 9/10\n",
      "199/199 [==============================] - 6s 30ms/step - loss: 0.4441 - accuracy: 0.8642\n",
      "Epoch 10/10\n",
      "199/199 [==============================] - 6s 29ms/step - loss: 0.4176 - accuracy: 0.8769\n",
      "Test loss: 0.4226, test accuracy: 0.8794\n",
      "Epoch 1/10\n",
      "199/199 [==============================] - 7s 34ms/step - loss: 0.4200 - accuracy: 0.8736\n",
      "Epoch 2/10\n",
      "199/199 [==============================] - 7s 35ms/step - loss: 0.4246 - accuracy: 0.8698\n",
      "Epoch 3/10\n",
      "199/199 [==============================] - 7s 36ms/step - loss: 0.4301 - accuracy: 0.8675\n",
      "Epoch 4/10\n",
      "199/199 [==============================] - 6s 28ms/step - loss: 0.4159 - accuracy: 0.8764\n",
      "Epoch 5/10\n",
      "199/199 [==============================] - 5s 27ms/step - loss: 0.4055 - accuracy: 0.8792\n",
      "Epoch 6/10\n",
      "199/199 [==============================] - 5s 25ms/step - loss: 0.4059 - accuracy: 0.8808\n",
      "Epoch 7/10\n",
      "199/199 [==============================] - 6s 30ms/step - loss: 0.4009 - accuracy: 0.8800\n",
      "Epoch 8/10\n",
      "199/199 [==============================] - 5s 27ms/step - loss: 0.4118 - accuracy: 0.8745\n",
      "Epoch 9/10\n",
      "199/199 [==============================] - 6s 29ms/step - loss: 0.4084 - accuracy: 0.8748\n",
      "Epoch 10/10\n",
      "199/199 [==============================] - 6s 28ms/step - loss: 0.6137 - accuracy: 0.7908\n",
      "Test loss: 0.6530, test accuracy: 0.7751\n",
      "Epoch 1/10\n",
      "199/199 [==============================] - 5s 25ms/step - loss: 0.5629 - accuracy: 0.8050\n",
      "Epoch 2/10\n",
      "199/199 [==============================] - 5s 25ms/step - loss: 0.4998 - accuracy: 0.8364\n",
      "Epoch 3/10\n",
      "199/199 [==============================] - 5s 27ms/step - loss: 0.4570 - accuracy: 0.8588\n",
      "Epoch 4/10\n",
      "199/199 [==============================] - 5s 27ms/step - loss: 0.6440 - accuracy: 0.7704\n",
      "Epoch 5/10\n",
      "199/199 [==============================] - 6s 30ms/step - loss: 0.6958 - accuracy: 0.7454\n",
      "Epoch 6/10\n",
      "199/199 [==============================] - 6s 29ms/step - loss: 0.5580 - accuracy: 0.8142\n",
      "Epoch 7/10\n",
      "199/199 [==============================] - 7s 36ms/step - loss: 0.5132 - accuracy: 0.8279\n",
      "Epoch 8/10\n",
      "199/199 [==============================] - 7s 34ms/step - loss: 0.4790 - accuracy: 0.8474\n",
      "Epoch 9/10\n",
      "199/199 [==============================] - 7s 34ms/step - loss: 0.4765 - accuracy: 0.8453\n",
      "Epoch 10/10\n",
      "199/199 [==============================] - 7s 35ms/step - loss: 0.4560 - accuracy: 0.8555\n",
      "Test loss: 0.4983, test accuracy: 0.8492\n",
      "Epoch 1/10\n",
      "199/199 [==============================] - 6s 32ms/step - loss: 0.4709 - accuracy: 0.8474\n",
      "Epoch 2/10\n",
      "199/199 [==============================] - 6s 31ms/step - loss: 0.4508 - accuracy: 0.8573\n",
      "Epoch 3/10\n",
      "199/199 [==============================] - 6s 30ms/step - loss: 0.4494 - accuracy: 0.8555\n",
      "Epoch 4/10\n",
      "199/199 [==============================] - 7s 35ms/step - loss: 0.4371 - accuracy: 0.8617\n",
      "Epoch 5/10\n",
      "199/199 [==============================] - 7s 34ms/step - loss: 0.4421 - accuracy: 0.8634\n",
      "Epoch 6/10\n",
      "199/199 [==============================] - 5s 26ms/step - loss: 0.4343 - accuracy: 0.8662\n",
      "Epoch 7/10\n",
      "199/199 [==============================] - 6s 28ms/step - loss: 0.4300 - accuracy: 0.8733\n",
      "Epoch 8/10\n",
      "199/199 [==============================] - 5s 27ms/step - loss: 0.4349 - accuracy: 0.8648\n",
      "Epoch 9/10\n",
      "199/199 [==============================] - 6s 28ms/step - loss: 0.4111 - accuracy: 0.8796\n",
      "Epoch 10/10\n",
      "199/199 [==============================] - 6s 31ms/step - loss: 0.4248 - accuracy: 0.8737\n",
      "Test loss: 0.4634, test accuracy: 0.8819\n"
     ]
    }
   ],
   "source": [
    "cross_val_acc_model6 = []\n",
    "# Perform cross-validation\n",
    "for train_idx, test_idx in kfold.split(X, y):\n",
    "  # Split data into training and testing sets\n",
    "  X_train, X_test = X[train_idx], X[test_idx]\n",
    "  y_train, y_test = y[train_idx], y[test_idx]\n",
    "\n",
    "  # Reshape data for GRU\n",
    "  X_train = np.reshape(X_train, (X_train.shape[0], X_train.shape[1], 1))\n",
    "  X_test = np.reshape(X_test, (X_test.shape[0], X_test.shape[1], 1))\n",
    "\n",
    "  # One-hot encode class labels\n",
    "  y_train = tf.keras.utils.to_categorical(y_train, num_classes=5)\n",
    "  y_test = tf.keras.utils.to_categorical(y_test, num_classes=5)\n",
    "\n",
    "  # Train model on training set\n",
    "  model.fit(X_train, y_train, epochs=10, batch_size=32, verbose=1)\n",
    "\n",
    "  # Evaluate model on testing set\n",
    "  loss, accuracy = model.evaluate(X_test, y_test, verbose=0)\n",
    "  cross_val_acc_model6.append(accuracy)\n",
    "  print(f'Test loss: {loss:.4f}, test accuracy: {accuracy:.4f}')"
   ]
  },
  {
   "cell_type": "code",
   "execution_count": 74,
   "metadata": {},
   "outputs": [
    {
     "data": {
      "text/plain": [
       "0.8479899406433106"
      ]
     },
     "execution_count": 74,
     "metadata": {},
     "output_type": "execute_result"
    }
   ],
   "source": [
    "cross_val_acc_model6 = np.average(np.array(cross_val_acc_model6))\n",
    "cross_val_acc_model6"
   ]
  },
  {
   "attachments": {},
   "cell_type": "markdown",
   "metadata": {},
   "source": [
    "# 4) Discussion"
   ]
  },
  {
   "attachments": {},
   "cell_type": "markdown",
   "metadata": {},
   "source": [
    "## 4.1 List the test values of each model you built (0.5 points)"
   ]
  },
  {
   "cell_type": "code",
   "execution_count": 75,
   "metadata": {},
   "outputs": [],
   "source": [
    "model_names = ['NN 1 layer', 'Deep NN', 'LSTM 1 layer', 'LSTM 2 layers', 'GRU 1 layer', 'GRU 2 layers']\n",
    "acc_model_scores = [scores_model_1[1]*100, scores_model_2[1]*100, scores_model_3[1]*100, scores_model_4[1]*100, scores_model_5[1]*100, scores_model_6[1]*100]\n",
    "loss_model_scores = [scores_model_1[0], scores_model_2[0], scores_model_3[0], scores_model_4[0], scores_model_5[0], scores_model_6[0]]"
   ]
  },
  {
   "cell_type": "code",
   "execution_count": 76,
   "metadata": {},
   "outputs": [
    {
     "data": {
      "text/plain": [
       "[82.62144327163696,\n",
       " 92.16917753219604,\n",
       " 83.9195966720581,\n",
       " 59.29648280143738,\n",
       " 88.02344799041748,\n",
       " 70.68676948547363]"
      ]
     },
     "execution_count": 76,
     "metadata": {},
     "output_type": "execute_result"
    }
   ],
   "source": [
    "acc_model_scores"
   ]
  },
  {
   "cell_type": "code",
   "execution_count": 77,
   "metadata": {},
   "outputs": [
    {
     "data": {
      "text/plain": [
       "[0.5685343742370605,\n",
       " 0.25734856724739075,\n",
       " 0.5226406455039978,\n",
       " 1.1099871397018433,\n",
       " 0.40862205624580383,\n",
       " 0.6930766701698303]"
      ]
     },
     "execution_count": 77,
     "metadata": {},
     "output_type": "execute_result"
    }
   ],
   "source": [
    "loss_model_scores"
   ]
  },
  {
   "cell_type": "code",
   "execution_count": 78,
   "metadata": {},
   "outputs": [
    {
     "data": {
      "image/png": "[encoded data removed]",
      "text/plain": [
       "<Figure size 640x480 with 1 Axes>"
      ]
     },
     "metadata": {},
     "output_type": "display_data"
    }
   ],
   "source": [
    "\n",
    "#Create the bar chart\n",
    "fig, ax = plt.subplots()\n",
    "bar_width = 0.2\n",
    "bar1 = ax.bar(model_names, acc_model_scores, bar_width, label='Accuracy')\n",
    "#bar2 = ax.bar(model_names, loss_model_scores, bar_width, label='loss')\n",
    "#plt.xticks(model_names, model_names, rotation=45)\n",
    "\n",
    "#Add labels and title\n",
    "plt.title(\"Comparison of six different Model accuracie's\")\n",
    "ax.set_ylabel('Accuracy')\n",
    "plt.ylim(0, 100)\n",
    "ax.legend()\n",
    "\n",
    "#Define the Baseline test accuracy as reference\n",
    "ax.axhline(y = baseline_test_acc*100, color = 'r', linestyle = '-')\n",
    "\n",
    "#Make the X axis more readable\n",
    "plt.xticks(model_names, model_names, rotation=30)\n",
    "\n",
    "#Show the chart\n",
    "plt.show()"
   ]
  },
  {
   "attachments": {},
   "cell_type": "markdown",
   "metadata": {},
   "source": [
    "I decided to do not to plot the loss metric since it's inversely proportional to the accuracy and it would be confusing to see because of the scale."
   ]
  },
  {
   "attachments": {},
   "cell_type": "markdown",
   "metadata": {},
   "source": [
    "### After Cross-validation"
   ]
  },
  {
   "cell_type": "code",
   "execution_count": 79,
   "metadata": {},
   "outputs": [
    {
     "data": {
      "text/plain": [
       "[93.7939703464508,\n",
       " 92.14824199676514,\n",
       " 58.831658363342285,\n",
       " 69.07035231590271,\n",
       " 85.50251245498657,\n",
       " 84.79899406433105]"
      ]
     },
     "execution_count": 79,
     "metadata": {},
     "output_type": "execute_result"
    }
   ],
   "source": [
    "acc_model_cross_val = [cross_val_acc_model1*100, cross_val_acc_model2*100, cross_val_acc_model3*100, cross_val_acc_model4*100, cross_val_acc_model5*100, cross_val_acc_model6*100]\n",
    "acc_model_cross_val"
   ]
  },
  {
   "cell_type": "code",
   "execution_count": 80,
   "metadata": {},
   "outputs": [
    {
     "data": {
      "image/png": "[encoded data removed]",
      "text/plain": [
       "<Figure size 640x480 with 1 Axes>"
      ]
     },
     "metadata": {},
     "output_type": "display_data"
    }
   ],
   "source": [
    "\n",
    "#Create the bar chart\n",
    "fig, ax = plt.subplots()\n",
    "bar_width = 0.2\n",
    "bar1 = ax.bar(model_names, acc_model_cross_val, bar_width, label='Accuracy')\n",
    "#bar2 = ax.bar(model_names, loss_model_scores, bar_width, label='loss')\n",
    "#plt.xticks(model_names, model_names, rotation=45)\n",
    "\n",
    "#Add labels and title\n",
    "plt.title(\"Comparison of accuracy after Cross-validation\")\n",
    "ax.set_ylabel('Accuracy')\n",
    "plt.ylim(0, 100)\n",
    "ax.legend()\n",
    "\n",
    "#Define the Baseline test accuracy as reference\n",
    "ax.axhline(y = baseline_test_acc*100, color = 'r', linestyle = '-')\n",
    "\n",
    "#Make the X axis more readable\n",
    "plt.xticks(model_names, model_names, rotation=30)\n",
    "\n",
    "#Show the chart\n",
    "plt.show()"
   ]
  },
  {
   "attachments": {},
   "cell_type": "markdown",
   "metadata": {},
   "source": [
    "## 4.2 Which model performs the best and why? (0.5 points) "
   ]
  },
  {
   "attachments": {},
   "cell_type": "markdown",
   "metadata": {},
   "source": [
    "### **Among the models, the Deep Neural Network is the most accurate, with a ~93% accuracy rate, most likely because of its hyperparameter settings (Nadam optimizer and learning rate set to 0.02)**. \n",
    "### **Since the output layer has five classes and the input layer has 80 features, I decided to use a funnel architecture (40,20,10) in which 10 is the number of neurons in the last hidden layer. Even though LSTM (Long Short-Term Memory) and GRU (Gated Recurrent Unit) are specialized types of recurrent neural networks (RNNs) that can model sequential data, such as time-series data, they cannot beat the current Deep neural network.**\n",
    "### **On the other hand, the \"LSTM 1 layer\" and \"GRU 2 layer\" are not far behind the DNN in accuracy, so they are still performing well with the time-series data because they can capture long-term dependencies and handle variable-length data. My conclusion is that the relative performance of these models depends on the characteristics of the dataset, the hyperparameters settings, the activation functions used, and the number of classes to predict.**"
   ]
  },
  {
   "attachments": {},
   "cell_type": "markdown",
   "metadata": {},
   "source": [
    "## 4.3 How does it compare to baseline? (0.5 points)"
   ]
  },
  {
   "attachments": {},
   "cell_type": "markdown",
   "metadata": {},
   "source": [
    "### **The majority of the models being tested perform better than the baseline (see the red line in the above picture). Only the \"LSTM 1 layers\" (running the model once) and the \"LSTM 2 layers\" (using cross-validation) fail to beat the baseline with a significant accuracy gap, and these models appear to be overfitting because the input gates are adding new memories to the long-term state and detecting too much or too little long-term or short-term dependencies.**\n",
    "### **In other words, I speculate that having 2 layers means that the model learns too much from the data and cannot quickly adapt to new data coming into a time-series dataset, but this speculation needs to be tested and further analyzed. Other problems could be poor hyperparameter tuning or insufficient training data since a deeper model may require more training data to learn effective representations, especially if the task is complex or the input sequences are long, like 80 in this specific case.**"
   ]
  },
  {
   "attachments": {},
   "cell_type": "markdown",
   "metadata": {},
   "source": []
  }
 ],
 "metadata": {
  "kernelspec": {
   "display_name": "base",
   "language": "python",
   "name": "python3"
  },
  "language_info": {
   "codemirror_mode": {
    "name": "ipython",
    "version": 3
   },
   "file_extension": ".py",
   "mimetype": "text/x-python",
   "name": "python",
   "nbconvert_exporter": "python",
   "pygments_lexer": "ipython3",
   "version": "3.9.12"
  },
  "toc": {
   "base_numbering": 1,
   "nav_menu": {},
   "number_sections": false,
   "sideBar": true,
   "skip_h1_title": true,
   "title_cell": "Table of Contents",
   "title_sidebar": "Contents",
   "toc_cell": false,
   "toc_position": {},
   "toc_section_display": true,
   "toc_window_display": false
  },
  "varInspector": {
   "cols": {
    "lenName": 16,
    "lenType": 16,
    "lenVar": 40
   },
   "kernels_config": {
    "python": {
     "delete_cmd_postfix": "",
     "delete_cmd_prefix": "del ",
     "library": "var_list.py",
     "varRefreshCmd": "print(var_dic_list())"
    },
    "r": {
     "delete_cmd_postfix": ") ",
     "delete_cmd_prefix": "rm(",
     "library": "var_list.r",
     "varRefreshCmd": "cat(var_dic_list()) "
    }
   },
   "types_to_exclude": [
    "module",
    "function",
    "builtin_function_or_method",
    "instance",
    "_Feature"
   ],
   "window_display": false
  },
  "vscode": {
   "interpreter": {
    "hash": "6e8d503ca3497b2311276643aea34fa4462df8f5c0c9e65d3521006dbd5b3aa2"
   }
  }
 },
 "nbformat": 4,
 "nbformat_minor": 2
}
